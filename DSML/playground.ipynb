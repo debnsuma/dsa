{
 "cells": [
  {
   "cell_type": "code",
   "execution_count": 1,
   "id": "b800aab9",
   "metadata": {},
   "outputs": [],
   "source": [
    "def get_index(tup, elem):\n",
    "    ''' input:elem-indicates the element in the tuple,tup-indicates the tuple\n",
    "         output:Return the index of the element.'''\n",
    "    \n",
    "    for i in tup:\n",
    "        if elem == i:\n",
    "            return tup.index(i)\n",
    "    return -1"
   ]
  },
  {
   "cell_type": "code",
   "execution_count": 4,
   "id": "4ba0bc2b",
   "metadata": {},
   "outputs": [
    {
     "data": {
      "text/plain": [
       "0"
      ]
     },
     "execution_count": 4,
     "metadata": {},
     "output_type": "execute_result"
    }
   ],
   "source": [
    "get_index((1,1,2,3,4,5,1), 1)"
   ]
  },
  {
   "cell_type": "code",
   "execution_count": 6,
   "id": "2d34f734",
   "metadata": {},
   "outputs": [
    {
     "data": {
      "text/plain": [
       "[0, 2, 4, 6, 8]"
      ]
     },
     "execution_count": 6,
     "metadata": {},
     "output_type": "execute_result"
    }
   ],
   "source": [
    "a = range(10)\n",
    "list(a[::2])"
   ]
  },
  {
   "cell_type": "code",
   "execution_count": 17,
   "id": "acbb1443",
   "metadata": {},
   "outputs": [],
   "source": [
    "def odd_even_split_tuple(tup):\n",
    "    ''' input:tup-indicates the tuple\n",
    "         output:print two tuples one for even indexed and odd indexed in the given output format'''\n",
    "    \n",
    "    odd = tuple(tup[::2])\n",
    "    even = tuple(tup[1::2])\n",
    "    \n",
    "    print(f\"Odd: {odd}\")\n",
    "    print(f\"Even: {even}\")\n"
   ]
  },
  {
   "cell_type": "code",
   "execution_count": 18,
   "id": "8e5bc6d8",
   "metadata": {},
   "outputs": [
    {
     "name": "stdout",
     "output_type": "stream",
     "text": [
      "Odd: (10, 5, 10, 10, 5, 8)\n",
      "Even: (8, 2, 15, 8, 8, 2)\n"
     ]
    }
   ],
   "source": [
    "odd_even_split_tuple((10, 8, 5, 2, 10, 15, 10, 8, 5, 8, 8, 2))"
   ]
  },
  {
   "cell_type": "code",
   "execution_count": 19,
   "id": "d12ccc74",
   "metadata": {},
   "outputs": [
    {
     "name": "stdout",
     "output_type": "stream",
     "text": [
      "(30, 40, 50) (10, 20, 30, 40) (40, 50, 60, 70, 80)\n"
     ]
    }
   ],
   "source": [
    "elements = (10, 20, 30, 40, 50, 60, 70, 80)\n",
    "print(elements[2:5], elements[:4], elements[3:100])"
   ]
  },
  {
   "cell_type": "code",
   "execution_count": 20,
   "id": "46e5f038",
   "metadata": {},
   "outputs": [
    {
     "ename": "TypeError",
     "evalue": "'>' not supported between instances of 'str' and 'int'",
     "output_type": "error",
     "traceback": [
      "\u001b[0;31m---------------------------------------------------------------------------\u001b[0m",
      "\u001b[0;31mTypeError\u001b[0m                                 Traceback (most recent call last)",
      "\u001b[0;32m<ipython-input-20-02cdfaffd777>\u001b[0m in \u001b[0;36m<module>\u001b[0;34m\u001b[0m\n\u001b[1;32m      1\u001b[0m \u001b[0ma\u001b[0m \u001b[0;34m=\u001b[0m \u001b[0;34m(\u001b[0m\u001b[0;36m1150\u001b[0m\u001b[0;34m,\u001b[0m \u001b[0;34m'sea_vel'\u001b[0m\u001b[0;34m,\u001b[0m \u001b[0;36m909\u001b[0m\u001b[0;34m)\u001b[0m\u001b[0;34m\u001b[0m\u001b[0;34m\u001b[0m\u001b[0m\n\u001b[0;32m----> 2\u001b[0;31m \u001b[0mmax\u001b[0m\u001b[0;34m(\u001b[0m\u001b[0ma\u001b[0m\u001b[0;34m)\u001b[0m\u001b[0;34m\u001b[0m\u001b[0;34m\u001b[0m\u001b[0m\n\u001b[0m",
      "\u001b[0;31mTypeError\u001b[0m: '>' not supported between instances of 'str' and 'int'"
     ]
    }
   ],
   "source": [
    "a = (1150, 'sea_vel', 909)\n",
    "max(a)"
   ]
  },
  {
   "cell_type": "code",
   "execution_count": 25,
   "id": "d451fa92",
   "metadata": {},
   "outputs": [],
   "source": [
    "def unique_count(tup):\n",
    "    ''' input:tup-indicates the tuple\n",
    "         output:Print the unique elements and their frequency'''\n",
    "    \n",
    "    seen_items = []\n",
    "    item_count = []\n",
    "    \n",
    "    for i in tup:\n",
    "        if i in seen_items:\n",
    "            continue\n",
    "        else:\n",
    "            seen_items.append(i)\n",
    "            item_count.append(tup.count(i))\n",
    "            \n",
    "    \n",
    "    for i, j in zip(seen_items, item_count):\n",
    "        print(f\"{i} : {j}\")"
   ]
  },
  {
   "cell_type": "code",
   "execution_count": 26,
   "id": "1c4289f3",
   "metadata": {},
   "outputs": [
    {
     "name": "stdout",
     "output_type": "stream",
     "text": [
      "10 : 3\n",
      "8 : 4\n",
      "5 : 2\n",
      "2 : 2\n",
      "15 : 1\n"
     ]
    }
   ],
   "source": [
    "unique_count((10, 8, 5, 2, 10, 15, 10, 8, 5, 8, 8, 2))"
   ]
  },
  {
   "cell_type": "code",
   "execution_count": 23,
   "id": "fd466ff1",
   "metadata": {},
   "outputs": [],
   "source": [
    "a = (10, 8, 5, 2, 10, 15, 10, 8, 5, 8, 8, 2)"
   ]
  },
  {
   "cell_type": "code",
   "execution_count": 24,
   "id": "796472ad",
   "metadata": {},
   "outputs": [
    {
     "data": {
      "text/plain": [
       "3"
      ]
     },
     "execution_count": 24,
     "metadata": {},
     "output_type": "execute_result"
    }
   ],
   "source": [
    "a.count(10)"
   ]
  },
  {
   "cell_type": "code",
   "execution_count": 27,
   "id": "855b999c",
   "metadata": {},
   "outputs": [
    {
     "data": {
      "text/plain": [
       "str"
      ]
     },
     "execution_count": 27,
     "metadata": {},
     "output_type": "execute_result"
    }
   ],
   "source": [
    "fruits = (\"Orange\")\n",
    "\n",
    "type(fruits)"
   ]
  },
  {
   "cell_type": "code",
   "execution_count": 28,
   "id": "49727117",
   "metadata": {},
   "outputs": [
    {
     "ename": "TypeError",
     "evalue": "unsupported operand type(s) for +: 'set' and 'set'",
     "output_type": "error",
     "traceback": [
      "\u001b[0;31m---------------------------------------------------------------------------\u001b[0m",
      "\u001b[0;31mTypeError\u001b[0m                                 Traceback (most recent call last)",
      "\u001b[0;32m<ipython-input-28-4c6e8866538b>\u001b[0m in \u001b[0;36m<module>\u001b[0;34m\u001b[0m\n\u001b[1;32m      1\u001b[0m \u001b[0mset1\u001b[0m \u001b[0;34m=\u001b[0m \u001b[0;34m{\u001b[0m\u001b[0;36m1\u001b[0m\u001b[0;34m,\u001b[0m \u001b[0;36m2\u001b[0m\u001b[0;34m,\u001b[0m \u001b[0;36m4\u001b[0m\u001b[0;34m}\u001b[0m\u001b[0;34m\u001b[0m\u001b[0;34m\u001b[0m\u001b[0m\n\u001b[1;32m      2\u001b[0m \u001b[0mset2\u001b[0m \u001b[0;34m=\u001b[0m \u001b[0;34m{\u001b[0m\u001b[0;36m4\u001b[0m\u001b[0;34m,\u001b[0m \u001b[0;36m5\u001b[0m\u001b[0;34m,\u001b[0m \u001b[0;36m6\u001b[0m\u001b[0;34m}\u001b[0m\u001b[0;34m\u001b[0m\u001b[0;34m\u001b[0m\u001b[0m\n\u001b[0;32m----> 3\u001b[0;31m \u001b[0mprint\u001b[0m\u001b[0;34m(\u001b[0m\u001b[0mlen\u001b[0m\u001b[0;34m(\u001b[0m\u001b[0mset1\u001b[0m \u001b[0;34m+\u001b[0m \u001b[0mset2\u001b[0m\u001b[0;34m)\u001b[0m\u001b[0;34m)\u001b[0m\u001b[0;34m\u001b[0m\u001b[0;34m\u001b[0m\u001b[0m\n\u001b[0m",
      "\u001b[0;31mTypeError\u001b[0m: unsupported operand type(s) for +: 'set' and 'set'"
     ]
    }
   ],
   "source": [
    "set1 = {1, 2, 4}\n",
    "set2 = {4, 5, 6}\n",
    "print(len(set1 + set2))"
   ]
  },
  {
   "cell_type": "code",
   "execution_count": 36,
   "id": "5232e824",
   "metadata": {},
   "outputs": [
    {
     "ename": "TypeError",
     "evalue": "unhashable type: 'list'",
     "output_type": "error",
     "traceback": [
      "\u001b[0;31m---------------------------------------------------------------------------\u001b[0m",
      "\u001b[0;31mTypeError\u001b[0m                                 Traceback (most recent call last)",
      "\u001b[0;32m<ipython-input-36-2867fcc6fa1e>\u001b[0m in \u001b[0;36m<module>\u001b[0;34m\u001b[0m\n\u001b[1;32m      1\u001b[0m \u001b[0msets\u001b[0m \u001b[0;34m=\u001b[0m \u001b[0;34m{\u001b[0m\u001b[0;36m3\u001b[0m\u001b[0;34m,\u001b[0m \u001b[0;36m4\u001b[0m\u001b[0;34m,\u001b[0m \u001b[0;36m5\u001b[0m\u001b[0;34m}\u001b[0m\u001b[0;34m\u001b[0m\u001b[0;34m\u001b[0m\u001b[0m\n\u001b[0;32m----> 2\u001b[0;31m \u001b[0msets\u001b[0m\u001b[0;34m.\u001b[0m\u001b[0madd\u001b[0m\u001b[0;34m(\u001b[0m\u001b[0;34m[\u001b[0m\u001b[0;36m1\u001b[0m\u001b[0;34m,\u001b[0m \u001b[0;36m2\u001b[0m \u001b[0;34m,\u001b[0m\u001b[0;36m3\u001b[0m\u001b[0;34m]\u001b[0m\u001b[0;34m)\u001b[0m\u001b[0;34m\u001b[0m\u001b[0;34m\u001b[0m\u001b[0m\n\u001b[0m\u001b[1;32m      3\u001b[0m \u001b[0mprint\u001b[0m\u001b[0;34m(\u001b[0m\u001b[0msets\u001b[0m\u001b[0;34m)\u001b[0m\u001b[0;34m\u001b[0m\u001b[0;34m\u001b[0m\u001b[0m\n",
      "\u001b[0;31mTypeError\u001b[0m: unhashable type: 'list'"
     ]
    }
   ],
   "source": [
    "sets = {3, 4, 5} \n",
    "sets.add([1, 2 ,3])\n",
    "print(sets)"
   ]
  },
  {
   "cell_type": "code",
   "execution_count": 37,
   "id": "ed7812f9",
   "metadata": {},
   "outputs": [
    {
     "ename": "TypeError",
     "evalue": "'set' object does not support item assignment",
     "output_type": "error",
     "traceback": [
      "\u001b[0;31m---------------------------------------------------------------------------\u001b[0m",
      "\u001b[0;31mTypeError\u001b[0m                                 Traceback (most recent call last)",
      "\u001b[0;32m<ipython-input-37-0f87d5a4015f>\u001b[0m in \u001b[0;36m<module>\u001b[0;34m\u001b[0m\n\u001b[1;32m      1\u001b[0m \u001b[0ma\u001b[0m\u001b[0;34m=\u001b[0m\u001b[0;34m{\u001b[0m\u001b[0;34m'Aurn'\u001b[0m\u001b[0;34m,\u001b[0m \u001b[0;34m'Nikhil'\u001b[0m\u001b[0;34m,\u001b[0m \u001b[0;34m'Seeta'\u001b[0m\u001b[0;34m}\u001b[0m\u001b[0;34m\u001b[0m\u001b[0;34m\u001b[0m\u001b[0m\n\u001b[0;32m----> 2\u001b[0;31m \u001b[0ma\u001b[0m\u001b[0;34m[\u001b[0m\u001b[0;36m0\u001b[0m\u001b[0;34m]\u001b[0m\u001b[0;34m=\u001b[0m \u001b[0;34m'Arun'\u001b[0m\u001b[0;34m\u001b[0m\u001b[0;34m\u001b[0m\u001b[0m\n\u001b[0m\u001b[1;32m      3\u001b[0m \u001b[0mprint\u001b[0m\u001b[0;34m(\u001b[0m\u001b[0ma\u001b[0m\u001b[0;34m)\u001b[0m\u001b[0;34m\u001b[0m\u001b[0;34m\u001b[0m\u001b[0m\n",
      "\u001b[0;31mTypeError\u001b[0m: 'set' object does not support item assignment"
     ]
    }
   ],
   "source": [
    "a={'Aurn', 'Nikhil', 'Seeta'}\n",
    "a[0]= 'Arun'\n",
    "print(a)"
   ]
  },
  {
   "cell_type": "code",
   "execution_count": 38,
   "id": "65d919ad",
   "metadata": {},
   "outputs": [
    {
     "data": {
      "text/plain": [
       "{'Academy', 'Awesome', 'Scaler', 'is'}"
      ]
     },
     "execution_count": 38,
     "metadata": {},
     "output_type": "execute_result"
    }
   ],
   "source": [
    "s = set(['Scaler', 'Academy', 'is', 'Awesome'])\n",
    "s"
   ]
  },
  {
   "cell_type": "code",
   "execution_count": 40,
   "id": "2ef1fbf7",
   "metadata": {},
   "outputs": [
    {
     "ename": "TypeError",
     "evalue": "set expected at most 1 argument, got 4",
     "output_type": "error",
     "traceback": [
      "\u001b[0;31m---------------------------------------------------------------------------\u001b[0m",
      "\u001b[0;31mTypeError\u001b[0m                                 Traceback (most recent call last)",
      "\u001b[0;32m<ipython-input-40-a9e916335b19>\u001b[0m in \u001b[0;36m<module>\u001b[0;34m\u001b[0m\n\u001b[0;32m----> 1\u001b[0;31m \u001b[0ms\u001b[0m \u001b[0;34m=\u001b[0m \u001b[0mset\u001b[0m\u001b[0;34m(\u001b[0m\u001b[0;34m'Scaler'\u001b[0m\u001b[0;34m,\u001b[0m \u001b[0;34m'Academy'\u001b[0m\u001b[0;34m,\u001b[0m \u001b[0;34m'is'\u001b[0m\u001b[0;34m,\u001b[0m \u001b[0;34m'Awesome'\u001b[0m\u001b[0;34m)\u001b[0m\u001b[0;34m\u001b[0m\u001b[0;34m\u001b[0m\u001b[0m\n\u001b[0m\u001b[1;32m      2\u001b[0m \u001b[0ms\u001b[0m\u001b[0;34m\u001b[0m\u001b[0;34m\u001b[0m\u001b[0m\n",
      "\u001b[0;31mTypeError\u001b[0m: set expected at most 1 argument, got 4"
     ]
    }
   ],
   "source": [
    "s = set('Scaler', 'Academy', 'is', 'Awesome')\n",
    "s"
   ]
  },
  {
   "cell_type": "code",
   "execution_count": 41,
   "id": "58730dbf",
   "metadata": {},
   "outputs": [
    {
     "data": {
      "text/plain": [
       "{' ', 'A', 'S', 'a', 'c', 'd', 'e', 'i', 'l', 'm', 'o', 'r', 's', 'w', 'y'}"
      ]
     },
     "execution_count": 41,
     "metadata": {},
     "output_type": "execute_result"
    }
   ],
   "source": [
    "s = set('Scaler Academy is Awesome')\n",
    "s"
   ]
  },
  {
   "cell_type": "code",
   "execution_count": 42,
   "id": "69a7b82c",
   "metadata": {},
   "outputs": [
    {
     "data": {
      "text/plain": [
       "{'Academy', 'Awesome', 'Scaler', 'is'}"
      ]
     },
     "execution_count": 42,
     "metadata": {},
     "output_type": "execute_result"
    }
   ],
   "source": [
    "s ={'Scaler', 'Academy', 'is', 'Awesome'}\n",
    "s"
   ]
  },
  {
   "cell_type": "code",
   "execution_count": 46,
   "id": "88bf5412",
   "metadata": {},
   "outputs": [],
   "source": [
    "def set_operation(sent1,sent2):\n",
    "    ''' input:sent1,sent2-two sentences taken as inputs\n",
    "         output:return the sum of length of unique words.'''\n",
    "    \n",
    "    set1 = set(sent1.split(\" \"))\n",
    "    set2 = set(sent2.split(\" \"))\n",
    "    \n",
    "    print(len(set1) + len(set2))\n"
   ]
  },
  {
   "cell_type": "code",
   "execution_count": 47,
   "id": "b798e378",
   "metadata": {},
   "outputs": [],
   "source": [
    "s1 = \"in data analysis we use data and process it further to create better interpreted data\"\n",
    "s2 = \"more and more data will be passively collected\""
   ]
  },
  {
   "cell_type": "code",
   "execution_count": 48,
   "id": "b2c2f57d",
   "metadata": {},
   "outputs": [
    {
     "name": "stdout",
     "output_type": "stream",
     "text": [
      "20\n"
     ]
    }
   ],
   "source": [
    "set_operation(s2,s1)"
   ]
  },
  {
   "cell_type": "code",
   "execution_count": 21,
   "id": "c1c3c581",
   "metadata": {},
   "outputs": [],
   "source": [
    "def simple_int(time,pa,ir):\n",
    "    ''' time, pa, ir represents the time in number of days, principal amount and rate of interest\n",
    "        Return the simple interest'''\n",
    "    ans = 0\n",
    "    # YOUR CODE GOES HERE\n",
    "\n",
    "    ans = pa * (1 + ir* round(time/356)/100)\n",
    "    return round(ans,2)"
   ]
  },
  {
   "cell_type": "code",
   "execution_count": 22,
   "metadata": {
    "collapsed": false
   },
   "outputs": [
    {
     "data": {
      "text/plain": [
       "9685.63"
      ]
     },
     "execution_count": 22,
     "metadata": {},
     "output_type": "execute_result"
    }
   ],
   "source": [
    "simple_int(365,9172,5.6)"
   ]
  },
  {
   "cell_type": "code",
   "execution_count": 23,
   "metadata": {
    "collapsed": false
   },
   "outputs": [
    {
     "data": {
      "text/plain": [
       "10260.0"
      ]
     },
     "execution_count": 23,
     "metadata": {},
     "output_type": "execute_result"
    }
   ],
   "source": [
    "simple_int(789,10000.0,1.3)\n"
   ]
  },
  {
   "cell_type": "code",
   "execution_count": 30,
   "metadata": {
    "collapsed": false
   },
   "outputs": [],
   "source": [
    "a = (1,2,[10,20])"
   ]
  },
  {
   "cell_type": "code",
   "execution_count": 31,
   "metadata": {
    "collapsed": false
   },
   "outputs": [
    {
     "data": {
      "text/plain": [
       "140275925539392"
      ]
     },
     "execution_count": 31,
     "metadata": {},
     "output_type": "execute_result"
    }
   ],
   "source": [
    "id(a)"
   ]
  },
  {
   "cell_type": "code",
   "execution_count": 32,
   "metadata": {
    "collapsed": false
   },
   "outputs": [],
   "source": [
    "a[2].append(30)"
   ]
  },
  {
   "cell_type": "code",
   "execution_count": 33,
   "metadata": {
    "collapsed": false
   },
   "outputs": [
    {
     "data": {
      "text/plain": [
       "(1, 2, [10, 20, 30])"
      ]
     },
     "execution_count": 33,
     "metadata": {},
     "output_type": "execute_result"
    }
   ],
   "source": [
    "a"
   ]
  },
  {
   "cell_type": "code",
   "execution_count": 34,
   "metadata": {
    "collapsed": false
   },
   "outputs": [
    {
     "data": {
      "text/plain": [
       "140275925539392"
      ]
     },
     "execution_count": 34,
     "metadata": {},
     "output_type": "execute_result"
    }
   ],
   "source": [
    "id(a)"
   ]
  },
  {
   "cell_type": "code",
   "execution_count": 29,
   "metadata": {
    "collapsed": false
   },
   "outputs": [
    {
     "ename": "SyntaxError",
     "evalue": "invalid syntax (2301060995.py, line 1)",
     "output_type": "error",
     "traceback": [
      "\u001b[0;36m  File \u001b[0;32m\"/var/folders/sg/qf1dw3cs4q5007gb2_9zd8600000gr/T/ipykernel_73361/2301060995.py\"\u001b[0;36m, line \u001b[0;32m1\u001b[0m\n\u001b[0;31m    Just thought to share this,\u001b[0m\n\u001b[0m         ^\u001b[0m\n\u001b[0;31mSyntaxError\u001b[0m\u001b[0;31m:\u001b[0m invalid syntax\n"
     ]
    }
   ],
   "source": []
  },
  {
   "cell_type": "code",
   "execution_count": 36,
   "metadata": {
    "collapsed": false
   },
   "outputs": [
    {
     "data": {
      "text/plain": [
       "140276719085872"
      ]
     },
     "execution_count": 36,
     "metadata": {},
     "output_type": "execute_result"
    }
   ],
   "source": [
    "id(a[0])"
   ]
  },
  {
   "cell_type": "code",
   "execution_count": 37,
   "metadata": {
    "collapsed": false
   },
   "outputs": [
    {
     "data": {
      "text/plain": [
       "140275925539392"
      ]
     },
     "execution_count": 37,
     "metadata": {},
     "output_type": "execute_result"
    }
   ],
   "source": [
    "id(a)"
   ]
  },
  {
   "cell_type": "code",
   "execution_count": 41,
   "metadata": {
    "collapsed": false
   },
   "outputs": [
    {
     "name": "stdout",
     "output_type": "stream",
     "text": [
      "hello world\n"
     ]
    }
   ],
   "source": [
    "import ctypes\n",
    "a = \"hello world\"\n",
    "print(ctypes.cast(id(a), ctypes.py_object).value)"
   ]
  },
  {
   "cell_type": "code",
   "execution_count": 44,
   "metadata": {
    "collapsed": false
   },
   "outputs": [],
   "source": [
    "a = (1,2,[10,20])\n"
   ]
  },
  {
   "cell_type": "code",
   "execution_count": 50,
   "metadata": {
    "collapsed": false
   },
   "outputs": [
    {
     "ename": "SyntaxError",
     "evalue": "unexpected EOF while parsing (1092166680.py, line 1)",
     "output_type": "error",
     "traceback": [
      "\u001b[0;36m  File \u001b[0;32m\"/var/folders/sg/qf1dw3cs4q5007gb2_9zd8600000gr/T/ipykernel_73361/1092166680.py\"\u001b[0;36m, line \u001b[0;32m1\u001b[0m\n\u001b[0;31m    ctypes.cast(id(a[0])\u001b[0m\n\u001b[0m                        ^\u001b[0m\n\u001b[0;31mSyntaxError\u001b[0m\u001b[0;31m:\u001b[0m unexpected EOF while parsing\n"
     ]
    }
   ],
   "source": []
  },
  {
   "cell_type": "code",
   "execution_count": 47,
   "metadata": {
    "collapsed": false
   },
   "outputs": [],
   "source": [
    "import gc"
   ]
  },
  {
   "cell_type": "code",
   "execution_count": 51,
   "metadata": {
    "collapsed": false
   },
   "outputs": [
    {
     "data": {
      "text/plain": [
       "(1, 2, [10, 20])"
      ]
     },
     "execution_count": 51,
     "metadata": {},
     "output_type": "execute_result"
    }
   ],
   "source": [
    "a"
   ]
  },
  {
   "cell_type": "code",
   "execution_count": 52,
   "metadata": {
    "collapsed": false
   },
   "outputs": [
    {
     "data": {
      "text/plain": [
       "140276472247744"
      ]
     },
     "execution_count": 52,
     "metadata": {},
     "output_type": "execute_result"
    }
   ],
   "source": [
    "id(a)"
   ]
  },
  {
   "cell_type": "code",
   "execution_count": 53,
   "metadata": {
    "collapsed": false
   },
   "outputs": [
    {
     "data": {
      "text/plain": [
       "140276472247168"
      ]
     },
     "execution_count": 53,
     "metadata": {},
     "output_type": "execute_result"
    }
   ],
   "source": [
    "id(a[2])"
   ]
  },
  {
   "cell_type": "code",
   "execution_count": 54,
   "metadata": {
    "collapsed": false
   },
   "outputs": [],
   "source": [
    "a[2].append(30)"
   ]
  },
  {
   "cell_type": "code",
   "execution_count": 55,
   "metadata": {
    "collapsed": false
   },
   "outputs": [
    {
     "data": {
      "text/plain": [
       "140276472247744"
      ]
     },
     "execution_count": 55,
     "metadata": {},
     "output_type": "execute_result"
    }
   ],
   "source": [
    "id(a)"
   ]
  },
  {
   "cell_type": "code",
   "execution_count": 56,
   "metadata": {
    "collapsed": false
   },
   "outputs": [
    {
     "data": {
      "text/plain": [
       "140276472247168"
      ]
     },
     "execution_count": 56,
     "metadata": {},
     "output_type": "execute_result"
    }
   ],
   "source": [
    "id(a[2])"
   ]
  },
  {
   "cell_type": "code",
   "execution_count": 57,
   "metadata": {
    "collapsed": false
   },
   "outputs": [],
   "source": [
    "a = [1]"
   ]
  },
  {
   "cell_type": "code",
   "execution_count": 58,
   "metadata": {
    "collapsed": false
   },
   "outputs": [
    {
     "data": {
      "text/plain": [
       "64"
      ]
     },
     "execution_count": 58,
     "metadata": {},
     "output_type": "execute_result"
    }
   ],
   "source": [
    "import sys\n",
    "sys.getsizeof(a)"
   ]
  },
  {
   "cell_type": "code",
   "execution_count": 59,
   "metadata": {
    "collapsed": false
   },
   "outputs": [],
   "source": [
    "a.append(100)"
   ]
  },
  {
   "cell_type": "code",
   "execution_count": 60,
   "metadata": {
    "collapsed": false
   },
   "outputs": [
    {
     "data": {
      "text/plain": [
       "120"
      ]
     },
     "execution_count": 60,
     "metadata": {},
     "output_type": "execute_result"
    }
   ],
   "source": [
    "sys.getsizeof(a)"
   ]
  },
  {
   "cell_type": "code",
   "execution_count": 4,
   "metadata": {
    "collapsed": false
   },
   "outputs": [
    {
     "name": "stdout",
     "output_type": "stream",
     "text": [
      "('Alice', 'Charlie')\n"
     ]
    }
   ],
   "source": [
    "from typing import List, Tuple\n",
    "\n",
    "def pair_students(names: List[str], locations: List[Tuple[int, int]]) -> Tuple[str, str]:\n",
    "    min_distance = float('inf')\n",
    "    students = None\n",
    "    for i in range(len(names)):\n",
    "        for j in range(i+1, len(names)):\n",
    "            distance = abs(locations[i][0] - locations[j][0]) + abs(locations[i][1] - locations[j][1])\n",
    "            if distance < min_distance:\n",
    "                min_distance = distance\n",
    "                students = (names[i], names[j])\n",
    "    return students\n",
    "\n",
    "# Test the function\n",
    "names = ['Alice', 'Bob', 'Charlie', 'Debbie', 'Maxine']\n",
    "locations = [(1,2),(5,4),(0,3),(2,3),(0,0)]\n",
    "print(pair_students(names, locations)) # should print ('Alice', 'Bob')\n"
   ]
  },
  {
   "cell_type": "code",
   "execution_count": 9,
   "metadata": {
    "collapsed": false
   },
   "outputs": [],
   "source": [
    "def nearestStudents(names, locations):\n",
    "    min_distance = float('inf')\n",
    "    students = None\n",
    "    for i in range(len(names)):\n",
    "        for j in range(i+1, len(names)):\n",
    "            distance = abs(locations[i][0] - locations[j][0]) + abs(locations[i][1] - locations[j][1])\n",
    "            if distance < min_distance:\n",
    "                min_distance = distance\n",
    "                students = [names[i], names[j]]\n",
    "    return students\n"
   ]
  },
  {
   "cell_type": "code",
   "execution_count": 10,
   "metadata": {
    "collapsed": false
   },
   "outputs": [
    {
     "name": "stdout",
     "output_type": "stream",
     "text": [
      "['Alice', 'Charlie']\n"
     ]
    }
   ],
   "source": [
    "names = ['Alice', 'Bob', 'Charlie', 'Debbie', 'Maxine']\n",
    "locations = [(1,2),(5,4),(0,3),(2,3),(0,0)]\n",
    "print(nearestStudents(names, locations))"
   ]
  },
  {
   "cell_type": "code",
   "execution_count": 12,
   "metadata": {
    "collapsed": false
   },
   "outputs": [
    {
     "name": "stdout",
     "output_type": "stream",
     "text": [
      "True\n"
     ]
    }
   ],
   "source": [
    "from typing import Tuple\n",
    "\n",
    "def check_point(p1, p2, a, b, c):\n",
    "    mid_x = (p1[0] + p2[0]) / 2\n",
    "    mid_y = (p1[1] + p2[1]) / 2\n",
    "\n",
    "    if a * mid_x + b * mid_y + c == 0:\n",
    "        return True\n",
    "    else:\n",
    "        return False\n",
    "\n",
    "# Test the function\n",
    "p1 = (1, 2)\n",
    "p2 = (3, 4)\n",
    "a = 2\n",
    "b = -2\n",
    "c = 2\n",
    "print(check_midpoint(p1, p2, a, b, c)) # should print True\n"
   ]
  },
  {
   "cell_type": "code",
   "execution_count": 14,
   "metadata": {
    "collapsed": false
   },
   "outputs": [
    {
     "name": "stdout",
     "output_type": "stream",
     "text": [
      "1.0\n"
     ]
    }
   ],
   "source": [
    "def gradient(p1, p2):\n",
    "    # Calculate the gradient of the line using the formula (y2 - y1) / (x2 - x1)\n",
    "    gradient = (p2[1] - p1[1]) / (p2[0] - p1[0])\n",
    "    return gradient\n",
    "\n",
    "# Test the function\n",
    "p1 = (1, 1)\n",
    "p2 = (2,2)\n",
    "print(gradient(p1, p2)) # should print 1.0\n"
   ]
  },
  {
   "cell_type": "code",
   "execution_count": 16,
   "metadata": {
    "collapsed": false
   },
   "outputs": [
    {
     "name": "stdout",
     "output_type": "stream",
     "text": [
      "True\n",
      "False\n"
     ]
    }
   ],
   "source": [
    "from typing import Tuple\n",
    "\n",
    "def are_collinear(p1, p2, p3):\n",
    "    # Calculate the slopes of the lines joining p1-p2 and p2-p3\n",
    "    m1 = (p2[1] - p1[1]) / (p2[0] - p1[0])\n",
    "    m2 = (p3[1] - p2[1]) / (p3[0] - p2[0])\n",
    "\n",
    "    # If the slopes are equal, the points are collinear\n",
    "    if m1 == m2:\n",
    "        return True\n",
    "    else:\n",
    "        return False\n",
    "\n",
    "# Test the function\n",
    "p1 = (1, 2)\n",
    "p2 = (3, 4)\n",
    "p3 = (5, 6)\n",
    "print(are_collinear(p1, p2, p3)) # should print True\n",
    "\n",
    "p1 = (1, 2)\n",
    "p2 = (3, 4)\n",
    "p3 = (5, 7)\n",
    "print(are_collinear(p1, p2, p3)) # should print False\n"
   ]
  },
  {
   "cell_type": "code",
   "execution_count": null,
   "metadata": {
    "collapsed": false,
    "pycharm": {
     "is_executing": true
    }
   },
   "outputs": [],
   "source": []
  },
  {
   "cell_type": "code",
   "execution_count": 36,
   "metadata": {
    "collapsed": false
   },
   "outputs": [],
   "source": [
    "class People:\n",
    "\n",
    "    def __init__(self, name, age):\n",
    "        self.name = name\n",
    "        self.age = age\n",
    "\n",
    "class Baby(People):\n",
    "\n",
    "    def __init__(self, name, age, area):\n",
    "        super().__init__(name, age)\n",
    "        self.area = area\n"
   ]
  },
  {
   "cell_type": "code",
   "execution_count": 37,
   "metadata": {
    "collapsed": false
   },
   "outputs": [],
   "source": [
    "p = People('suman', 37)"
   ]
  },
  {
   "cell_type": "code",
   "execution_count": 38,
   "metadata": {
    "collapsed": false
   },
   "outputs": [],
   "source": [
    "b = Baby('reyaan', 3, 'suman')"
   ]
  },
  {
   "cell_type": "code",
   "execution_count": 3,
   "metadata": {
    "collapsed": false
   },
   "outputs": [],
   "source": [
    "height = 100\n",
    "bounce = 1\n",
    "\n",
    "while bounce <= 3:\n",
    "    height = height * (3/5)\n",
    "    bounce += 1\n",
    "\n",
    "newheight = height"
   ]
  },
  {
   "cell_type": "code",
   "execution_count": 9,
   "id": "68a2db97",
   "metadata": {},
   "outputs": [
    {
     "data": {
      "text/plain": [
       "21.599999999999998"
      ]
     },
     "execution_count": 9,
     "metadata": {},
     "output_type": "execute_result"
    }
   ],
   "source": [
    "newheight"
   ]
  },
  {
   "cell_type": "code",
   "execution_count": 12,
   "id": "4295abc2",
   "metadata": {},
   "outputs": [
    {
     "data": {
      "text/plain": [
       "21.6"
      ]
     },
     "execution_count": 12,
     "metadata": {},
     "output_type": "execute_result"
    }
   ],
   "source": [
    "round(newheight, 2)"
   ]
  },
  {
   "cell_type": "code",
   "execution_count": 13,
   "id": "0f74454f",
   "metadata": {},
   "outputs": [],
   "source": [
    "stocks = 'a, b, c'\n",
    "prices = '10,20,30'\n",
    "shares='1,2,3'"
   ]
  },
  {
   "cell_type": "code",
   "execution_count": 21,
   "id": "daf61206",
   "metadata": {},
   "outputs": [
    {
     "name": "stdout",
     "output_type": "stream",
     "text": [
      "['a101', ' b202', ' c303']\n"
     ]
    }
   ],
   "source": [
    "a = stocks.split(',')\n",
    "b = prices.split(',')\n",
    "c = shares.split(',')\n",
    "d = []\n",
    "\n",
    "for i in range(len(a)):\n",
    "    d.append(a[i]+b[i]+c[i])\n",
    "\n",
    "print(d)"
   ]
  },
  {
   "cell_type": "code",
   "execution_count": 19,
   "id": "1a42f655",
   "metadata": {},
   "outputs": [
    {
     "data": {
      "text/plain": [
       "[<zip at 0x106c7ebc0>]"
      ]
     },
     "execution_count": 19,
     "metadata": {},
     "output_type": "execute_result"
    }
   ],
   "source": [
    "b"
   ]
  },
  {
   "cell_type": "markdown",
   "id": "666471ed",
   "metadata": {},
   "source": [
    "# Function Minima"
   ]
  },
  {
   "cell_type": "code",
   "execution_count": 25,
   "id": "05c5158e",
   "metadata": {},
   "outputs": [],
   "source": [
    "def min_value(a,b,c,ll,ul):\n",
    "\t# a,b,c -> Integers. Coefficients of quadratic equation ax^2 + bx + c = 0\n",
    "\t# ll -> Integer. Lower limit of variable x\n",
    "\t# ul -> Integer. Upper Limit of variable x\n",
    "\n",
    "\t# return the Integer value of x for which the quadratic equation attains minimum value\n",
    "\tresult = float('inf')\n",
    "\t# code starts here\n",
    "\n",
    "\tfor i in range(ll, ul+1):\n",
    "\t\tderivative = 2 * a * i + (b)\n",
    "\t\ttemp_ans = abs(derivative)\n",
    "\t\t# print(i, temp_ans)\n",
    "\t\tif temp_ans < result:\n",
    "\t\t\tresult = temp_ans \n",
    "\t\t\tans = i \n",
    "\n",
    "\t#code ends here\n",
    "\treturn ans"
   ]
  },
  {
   "cell_type": "code",
   "execution_count": 26,
   "id": "bfee6a04",
   "metadata": {},
   "outputs": [
    {
     "data": {
      "text/plain": [
       "5"
      ]
     },
     "execution_count": 26,
     "metadata": {},
     "output_type": "execute_result"
    }
   ],
   "source": [
    "a, b, c = 2, -20, 6\n",
    "ll, ul = 1, 15\n",
    "\n",
    "min_value(a,b,c,ll,ul)"
   ]
  },
  {
   "cell_type": "code",
   "execution_count": 22,
   "id": "347f19b8",
   "metadata": {},
   "outputs": [
    {
     "data": {
      "text/plain": [
       "10"
      ]
     },
     "execution_count": 22,
     "metadata": {},
     "output_type": "execute_result"
    }
   ],
   "source": [
    "abs(-10)"
   ]
  },
  {
   "attachments": {},
   "cell_type": "markdown",
   "id": "3a2a6168",
   "metadata": {},
   "source": [
    "# Derivative at a point\n"
   ]
  },
  {
   "cell_type": "code",
   "execution_count": 55,
   "id": "dfc04a20",
   "metadata": {},
   "outputs": [],
   "source": [
    "import math\n",
    "\n",
    "def derivative(a):\n",
    "    # a -> The value at which the derivative’s value needs to be calculated\n",
    "    # output-> The value of derivative at x=a\n",
    "    ans = None\n",
    "\n",
    "    exp_plus_a = math.exp(a)\n",
    "    exp_minus_a = math.exp(-a)\n",
    "    derivative = 4 / pow((exp_plus_a + exp_minus_a), 2)\n",
    "\n",
    "    ans = round(derivative, 4)\n",
    "\n",
    "    return ans\n"
   ]
  },
  {
   "cell_type": "code",
   "execution_count": 56,
   "id": "3b127ed0",
   "metadata": {},
   "outputs": [
    {
     "data": {
      "text/plain": [
       "0.0013"
      ]
     },
     "execution_count": 56,
     "metadata": {},
     "output_type": "execute_result"
    }
   ],
   "source": [
    "derivative(4)"
   ]
  },
  {
   "cell_type": "code",
   "execution_count": 49,
   "id": "896e0c63",
   "metadata": {},
   "outputs": [
    {
     "data": {
      "text/plain": [
       "16"
      ]
     },
     "execution_count": 49,
     "metadata": {},
     "output_type": "execute_result"
    }
   ],
   "source": [
    "pow(4, 2)"
   ]
  },
  {
   "cell_type": "code",
   "execution_count": 50,
   "id": "2421c9d1",
   "metadata": {},
   "outputs": [
    {
     "data": {
      "text/plain": [
       "7.38905609893065"
      ]
     },
     "execution_count": 50,
     "metadata": {},
     "output_type": "execute_result"
    }
   ],
   "source": [
    "math.exp(2)"
   ]
  },
  {
   "attachments": {},
   "cell_type": "markdown",
   "id": "97a3e777",
   "metadata": {},
   "source": [
    "# Salary Check"
   ]
  },
  {
   "cell_type": "code",
   "execution_count": 64,
   "id": "03ce0375",
   "metadata": {},
   "outputs": [],
   "source": [
    "class SalaryNotInRangeError(Exception):\n",
    "    pass \n",
    "\n",
    "def check_salary(salary):\n",
    "    try:\n",
    "        if 10000 <= salary <= 100000:\n",
    "            print(\"Congratulations!!\")\n",
    "        else:\n",
    "            raise SalaryNotInRangeError\n",
    "    except SalaryNotInRangeError as e:\n",
    "        print(\"Salary is not in range\")"
   ]
  },
  {
   "cell_type": "code",
   "execution_count": 69,
   "id": "2e9be53f",
   "metadata": {},
   "outputs": [
    {
     "name": "stdout",
     "output_type": "stream",
     "text": [
      "Salary is not in range\n"
     ]
    }
   ],
   "source": [
    "check_salary(100001)"
   ]
  },
  {
   "cell_type": "code",
   "execution_count": null,
   "id": "77e6c6f3",
   "metadata": {},
   "outputs": [],
   "source": []
  }
 ],
 "metadata": {
  "kernelspec": {
   "display_name": "Python 3",
   "language": "python",
   "name": "python3"
  },
  "language_info": {
   "codemirror_mode": {
    "name": "ipython",
    "version": 3
   },
   "file_extension": ".py",
   "mimetype": "text/x-python",
   "name": "python",
   "nbconvert_exporter": "python",
   "pygments_lexer": "ipython3",
   "version": "3.9.7"
  },
  "vscode": {
   "interpreter": {
    "hash": "7b81e634707a2e4135bf890680c8c35ed880de27576c789347cd579c6a5c7d0d"
   }
  }
 },
 "nbformat": 4,
 "nbformat_minor": 5
}
