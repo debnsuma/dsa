{
 "cells": [
  {
   "cell_type": "code",
   "execution_count": 1,
   "id": "b800aab9",
   "metadata": {},
   "outputs": [],
   "source": [
    "def get_index(tup, elem):\n",
    "    ''' input:elem-indicates the element in the tuple,tup-indicates the tuple\n",
    "         output:Return the index of the element.'''\n",
    "    \n",
    "    for i in tup:\n",
    "        if elem == i:\n",
    "            return tup.index(i)\n",
    "    return -1"
   ]
  },
  {
   "cell_type": "code",
   "execution_count": 4,
   "id": "4ba0bc2b",
   "metadata": {},
   "outputs": [
    {
     "data": {
      "text/plain": [
       "0"
      ]
     },
     "execution_count": 4,
     "metadata": {},
     "output_type": "execute_result"
    }
   ],
   "source": [
    "get_index((1,1,2,3,4,5,1), 1)"
   ]
  },
  {
   "cell_type": "code",
   "execution_count": 6,
   "id": "2d34f734",
   "metadata": {},
   "outputs": [
    {
     "data": {
      "text/plain": [
       "[0, 2, 4, 6, 8]"
      ]
     },
     "execution_count": 6,
     "metadata": {},
     "output_type": "execute_result"
    }
   ],
   "source": [
    "a = range(10)\n",
    "list(a[::2])"
   ]
  },
  {
   "cell_type": "code",
   "execution_count": 17,
   "id": "acbb1443",
   "metadata": {},
   "outputs": [],
   "source": [
    "def odd_even_split_tuple(tup):\n",
    "    ''' input:tup-indicates the tuple\n",
    "         output:print two tuples one for even indexed and odd indexed in the given output format'''\n",
    "    \n",
    "    odd = tuple(tup[::2])\n",
    "    even = tuple(tup[1::2])\n",
    "    \n",
    "    print(f\"Odd: {odd}\")\n",
    "    print(f\"Even: {even}\")\n"
   ]
  },
  {
   "cell_type": "code",
   "execution_count": 18,
   "id": "8e5bc6d8",
   "metadata": {},
   "outputs": [
    {
     "name": "stdout",
     "output_type": "stream",
     "text": [
      "Odd: (10, 5, 10, 10, 5, 8)\n",
      "Even: (8, 2, 15, 8, 8, 2)\n"
     ]
    }
   ],
   "source": [
    "odd_even_split_tuple((10, 8, 5, 2, 10, 15, 10, 8, 5, 8, 8, 2))"
   ]
  },
  {
   "cell_type": "code",
   "execution_count": 19,
   "id": "d12ccc74",
   "metadata": {},
   "outputs": [
    {
     "name": "stdout",
     "output_type": "stream",
     "text": [
      "(30, 40, 50) (10, 20, 30, 40) (40, 50, 60, 70, 80)\n"
     ]
    }
   ],
   "source": [
    "elements = (10, 20, 30, 40, 50, 60, 70, 80)\n",
    "print(elements[2:5], elements[:4], elements[3:100])"
   ]
  },
  {
   "cell_type": "code",
   "execution_count": 20,
   "id": "46e5f038",
   "metadata": {},
   "outputs": [
    {
     "ename": "TypeError",
     "evalue": "'>' not supported between instances of 'str' and 'int'",
     "output_type": "error",
     "traceback": [
      "\u001B[0;31m---------------------------------------------------------------------------\u001B[0m",
      "\u001B[0;31mTypeError\u001B[0m                                 Traceback (most recent call last)",
      "\u001B[0;32m<ipython-input-20-02cdfaffd777>\u001B[0m in \u001B[0;36m<module>\u001B[0;34m\u001B[0m\n\u001B[1;32m      1\u001B[0m \u001B[0ma\u001B[0m \u001B[0;34m=\u001B[0m \u001B[0;34m(\u001B[0m\u001B[0;36m1150\u001B[0m\u001B[0;34m,\u001B[0m \u001B[0;34m'sea_vel'\u001B[0m\u001B[0;34m,\u001B[0m \u001B[0;36m909\u001B[0m\u001B[0;34m)\u001B[0m\u001B[0;34m\u001B[0m\u001B[0;34m\u001B[0m\u001B[0m\n\u001B[0;32m----> 2\u001B[0;31m \u001B[0mmax\u001B[0m\u001B[0;34m(\u001B[0m\u001B[0ma\u001B[0m\u001B[0;34m)\u001B[0m\u001B[0;34m\u001B[0m\u001B[0;34m\u001B[0m\u001B[0m\n\u001B[0m",
      "\u001B[0;31mTypeError\u001B[0m: '>' not supported between instances of 'str' and 'int'"
     ]
    }
   ],
   "source": [
    "a = (1150, 'sea_vel', 909)\n",
    "max(a)"
   ]
  },
  {
   "cell_type": "code",
   "execution_count": 25,
   "id": "d451fa92",
   "metadata": {},
   "outputs": [],
   "source": [
    "def unique_count(tup):\n",
    "    ''' input:tup-indicates the tuple\n",
    "         output:Print the unique elements and their frequency'''\n",
    "    \n",
    "    seen_items = []\n",
    "    item_count = []\n",
    "    \n",
    "    for i in tup:\n",
    "        if i in seen_items:\n",
    "            continue\n",
    "        else:\n",
    "            seen_items.append(i)\n",
    "            item_count.append(tup.count(i))\n",
    "            \n",
    "    \n",
    "    for i, j in zip(seen_items, item_count):\n",
    "        print(f\"{i} : {j}\")"
   ]
  },
  {
   "cell_type": "code",
   "execution_count": 26,
   "id": "1c4289f3",
   "metadata": {},
   "outputs": [
    {
     "name": "stdout",
     "output_type": "stream",
     "text": [
      "10 : 3\n",
      "8 : 4\n",
      "5 : 2\n",
      "2 : 2\n",
      "15 : 1\n"
     ]
    }
   ],
   "source": [
    "unique_count((10, 8, 5, 2, 10, 15, 10, 8, 5, 8, 8, 2))"
   ]
  },
  {
   "cell_type": "code",
   "execution_count": 23,
   "id": "fd466ff1",
   "metadata": {},
   "outputs": [],
   "source": [
    "a = (10, 8, 5, 2, 10, 15, 10, 8, 5, 8, 8, 2)"
   ]
  },
  {
   "cell_type": "code",
   "execution_count": 24,
   "id": "796472ad",
   "metadata": {},
   "outputs": [
    {
     "data": {
      "text/plain": [
       "3"
      ]
     },
     "execution_count": 24,
     "metadata": {},
     "output_type": "execute_result"
    }
   ],
   "source": [
    "a.count(10)"
   ]
  },
  {
   "cell_type": "code",
   "execution_count": 27,
   "id": "855b999c",
   "metadata": {},
   "outputs": [
    {
     "data": {
      "text/plain": [
       "str"
      ]
     },
     "execution_count": 27,
     "metadata": {},
     "output_type": "execute_result"
    }
   ],
   "source": [
    "fruits = (\"Orange\")\n",
    "\n",
    "type(fruits)"
   ]
  },
  {
   "cell_type": "code",
   "execution_count": 28,
   "id": "49727117",
   "metadata": {},
   "outputs": [
    {
     "ename": "TypeError",
     "evalue": "unsupported operand type(s) for +: 'set' and 'set'",
     "output_type": "error",
     "traceback": [
      "\u001B[0;31m---------------------------------------------------------------------------\u001B[0m",
      "\u001B[0;31mTypeError\u001B[0m                                 Traceback (most recent call last)",
      "\u001B[0;32m<ipython-input-28-4c6e8866538b>\u001B[0m in \u001B[0;36m<module>\u001B[0;34m\u001B[0m\n\u001B[1;32m      1\u001B[0m \u001B[0mset1\u001B[0m \u001B[0;34m=\u001B[0m \u001B[0;34m{\u001B[0m\u001B[0;36m1\u001B[0m\u001B[0;34m,\u001B[0m \u001B[0;36m2\u001B[0m\u001B[0;34m,\u001B[0m \u001B[0;36m4\u001B[0m\u001B[0;34m}\u001B[0m\u001B[0;34m\u001B[0m\u001B[0;34m\u001B[0m\u001B[0m\n\u001B[1;32m      2\u001B[0m \u001B[0mset2\u001B[0m \u001B[0;34m=\u001B[0m \u001B[0;34m{\u001B[0m\u001B[0;36m4\u001B[0m\u001B[0;34m,\u001B[0m \u001B[0;36m5\u001B[0m\u001B[0;34m,\u001B[0m \u001B[0;36m6\u001B[0m\u001B[0;34m}\u001B[0m\u001B[0;34m\u001B[0m\u001B[0;34m\u001B[0m\u001B[0m\n\u001B[0;32m----> 3\u001B[0;31m \u001B[0mprint\u001B[0m\u001B[0;34m(\u001B[0m\u001B[0mlen\u001B[0m\u001B[0;34m(\u001B[0m\u001B[0mset1\u001B[0m \u001B[0;34m+\u001B[0m \u001B[0mset2\u001B[0m\u001B[0;34m)\u001B[0m\u001B[0;34m)\u001B[0m\u001B[0;34m\u001B[0m\u001B[0;34m\u001B[0m\u001B[0m\n\u001B[0m",
      "\u001B[0;31mTypeError\u001B[0m: unsupported operand type(s) for +: 'set' and 'set'"
     ]
    }
   ],
   "source": [
    "set1 = {1, 2, 4}\n",
    "set2 = {4, 5, 6}\n",
    "print(len(set1 + set2))"
   ]
  },
  {
   "cell_type": "code",
   "execution_count": 36,
   "id": "5232e824",
   "metadata": {},
   "outputs": [
    {
     "ename": "TypeError",
     "evalue": "unhashable type: 'list'",
     "output_type": "error",
     "traceback": [
      "\u001B[0;31m---------------------------------------------------------------------------\u001B[0m",
      "\u001B[0;31mTypeError\u001B[0m                                 Traceback (most recent call last)",
      "\u001B[0;32m<ipython-input-36-2867fcc6fa1e>\u001B[0m in \u001B[0;36m<module>\u001B[0;34m\u001B[0m\n\u001B[1;32m      1\u001B[0m \u001B[0msets\u001B[0m \u001B[0;34m=\u001B[0m \u001B[0;34m{\u001B[0m\u001B[0;36m3\u001B[0m\u001B[0;34m,\u001B[0m \u001B[0;36m4\u001B[0m\u001B[0;34m,\u001B[0m \u001B[0;36m5\u001B[0m\u001B[0;34m}\u001B[0m\u001B[0;34m\u001B[0m\u001B[0;34m\u001B[0m\u001B[0m\n\u001B[0;32m----> 2\u001B[0;31m \u001B[0msets\u001B[0m\u001B[0;34m.\u001B[0m\u001B[0madd\u001B[0m\u001B[0;34m(\u001B[0m\u001B[0;34m[\u001B[0m\u001B[0;36m1\u001B[0m\u001B[0;34m,\u001B[0m \u001B[0;36m2\u001B[0m \u001B[0;34m,\u001B[0m\u001B[0;36m3\u001B[0m\u001B[0;34m]\u001B[0m\u001B[0;34m)\u001B[0m\u001B[0;34m\u001B[0m\u001B[0;34m\u001B[0m\u001B[0m\n\u001B[0m\u001B[1;32m      3\u001B[0m \u001B[0mprint\u001B[0m\u001B[0;34m(\u001B[0m\u001B[0msets\u001B[0m\u001B[0;34m)\u001B[0m\u001B[0;34m\u001B[0m\u001B[0;34m\u001B[0m\u001B[0m\n",
      "\u001B[0;31mTypeError\u001B[0m: unhashable type: 'list'"
     ]
    }
   ],
   "source": [
    "sets = {3, 4, 5} \n",
    "sets.add([1, 2 ,3])\n",
    "print(sets)"
   ]
  },
  {
   "cell_type": "code",
   "execution_count": 37,
   "id": "ed7812f9",
   "metadata": {},
   "outputs": [
    {
     "ename": "TypeError",
     "evalue": "'set' object does not support item assignment",
     "output_type": "error",
     "traceback": [
      "\u001B[0;31m---------------------------------------------------------------------------\u001B[0m",
      "\u001B[0;31mTypeError\u001B[0m                                 Traceback (most recent call last)",
      "\u001B[0;32m<ipython-input-37-0f87d5a4015f>\u001B[0m in \u001B[0;36m<module>\u001B[0;34m\u001B[0m\n\u001B[1;32m      1\u001B[0m \u001B[0ma\u001B[0m\u001B[0;34m=\u001B[0m\u001B[0;34m{\u001B[0m\u001B[0;34m'Aurn'\u001B[0m\u001B[0;34m,\u001B[0m \u001B[0;34m'Nikhil'\u001B[0m\u001B[0;34m,\u001B[0m \u001B[0;34m'Seeta'\u001B[0m\u001B[0;34m}\u001B[0m\u001B[0;34m\u001B[0m\u001B[0;34m\u001B[0m\u001B[0m\n\u001B[0;32m----> 2\u001B[0;31m \u001B[0ma\u001B[0m\u001B[0;34m[\u001B[0m\u001B[0;36m0\u001B[0m\u001B[0;34m]\u001B[0m\u001B[0;34m=\u001B[0m \u001B[0;34m'Arun'\u001B[0m\u001B[0;34m\u001B[0m\u001B[0;34m\u001B[0m\u001B[0m\n\u001B[0m\u001B[1;32m      3\u001B[0m \u001B[0mprint\u001B[0m\u001B[0;34m(\u001B[0m\u001B[0ma\u001B[0m\u001B[0;34m)\u001B[0m\u001B[0;34m\u001B[0m\u001B[0;34m\u001B[0m\u001B[0m\n",
      "\u001B[0;31mTypeError\u001B[0m: 'set' object does not support item assignment"
     ]
    }
   ],
   "source": [
    "a={'Aurn', 'Nikhil', 'Seeta'}\n",
    "a[0]= 'Arun'\n",
    "print(a)"
   ]
  },
  {
   "cell_type": "code",
   "execution_count": 38,
   "id": "65d919ad",
   "metadata": {},
   "outputs": [
    {
     "data": {
      "text/plain": [
       "{'Academy', 'Awesome', 'Scaler', 'is'}"
      ]
     },
     "execution_count": 38,
     "metadata": {},
     "output_type": "execute_result"
    }
   ],
   "source": [
    "s = set(['Scaler', 'Academy', 'is', 'Awesome'])\n",
    "s"
   ]
  },
  {
   "cell_type": "code",
   "execution_count": 40,
   "id": "2ef1fbf7",
   "metadata": {},
   "outputs": [
    {
     "ename": "TypeError",
     "evalue": "set expected at most 1 argument, got 4",
     "output_type": "error",
     "traceback": [
      "\u001B[0;31m---------------------------------------------------------------------------\u001B[0m",
      "\u001B[0;31mTypeError\u001B[0m                                 Traceback (most recent call last)",
      "\u001B[0;32m<ipython-input-40-a9e916335b19>\u001B[0m in \u001B[0;36m<module>\u001B[0;34m\u001B[0m\n\u001B[0;32m----> 1\u001B[0;31m \u001B[0ms\u001B[0m \u001B[0;34m=\u001B[0m \u001B[0mset\u001B[0m\u001B[0;34m(\u001B[0m\u001B[0;34m'Scaler'\u001B[0m\u001B[0;34m,\u001B[0m \u001B[0;34m'Academy'\u001B[0m\u001B[0;34m,\u001B[0m \u001B[0;34m'is'\u001B[0m\u001B[0;34m,\u001B[0m \u001B[0;34m'Awesome'\u001B[0m\u001B[0;34m)\u001B[0m\u001B[0;34m\u001B[0m\u001B[0;34m\u001B[0m\u001B[0m\n\u001B[0m\u001B[1;32m      2\u001B[0m \u001B[0ms\u001B[0m\u001B[0;34m\u001B[0m\u001B[0;34m\u001B[0m\u001B[0m\n",
      "\u001B[0;31mTypeError\u001B[0m: set expected at most 1 argument, got 4"
     ]
    }
   ],
   "source": [
    "s = set('Scaler', 'Academy', 'is', 'Awesome')\n",
    "s"
   ]
  },
  {
   "cell_type": "code",
   "execution_count": 41,
   "id": "58730dbf",
   "metadata": {},
   "outputs": [
    {
     "data": {
      "text/plain": [
       "{' ', 'A', 'S', 'a', 'c', 'd', 'e', 'i', 'l', 'm', 'o', 'r', 's', 'w', 'y'}"
      ]
     },
     "execution_count": 41,
     "metadata": {},
     "output_type": "execute_result"
    }
   ],
   "source": [
    "s = set('Scaler Academy is Awesome')\n",
    "s"
   ]
  },
  {
   "cell_type": "code",
   "execution_count": 42,
   "id": "69a7b82c",
   "metadata": {},
   "outputs": [
    {
     "data": {
      "text/plain": [
       "{'Academy', 'Awesome', 'Scaler', 'is'}"
      ]
     },
     "execution_count": 42,
     "metadata": {},
     "output_type": "execute_result"
    }
   ],
   "source": [
    "s ={'Scaler', 'Academy', 'is', 'Awesome'}\n",
    "s"
   ]
  },
  {
   "cell_type": "code",
   "execution_count": 46,
   "id": "88bf5412",
   "metadata": {},
   "outputs": [],
   "source": [
    "def set_operation(sent1,sent2):\n",
    "    ''' input:sent1,sent2-two sentences taken as inputs\n",
    "         output:return the sum of length of unique words.'''\n",
    "    \n",
    "    set1 = set(sent1.split(\" \"))\n",
    "    set2 = set(sent2.split(\" \"))\n",
    "    \n",
    "    print(len(set1) + len(set2))\n"
   ]
  },
  {
   "cell_type": "code",
   "execution_count": 47,
   "id": "b798e378",
   "metadata": {},
   "outputs": [],
   "source": [
    "s1 = \"in data analysis we use data and process it further to create better interpreted data\"\n",
    "s2 = \"more and more data will be passively collected\""
   ]
  },
  {
   "cell_type": "code",
   "execution_count": 48,
   "id": "b2c2f57d",
   "metadata": {},
   "outputs": [
    {
     "name": "stdout",
     "output_type": "stream",
     "text": [
      "20\n"
     ]
    }
   ],
   "source": [
    "set_operation(s2,s1)"
   ]
  },
  {
   "cell_type": "code",
   "execution_count": 21,
   "id": "c1c3c581",
   "metadata": {},
   "outputs": [],
   "source": [
    "def simple_int(time,pa,ir):\n",
    "    ''' time, pa, ir represents the time in number of days, principal amount and rate of interest\n",
    "        Return the simple interest'''\n",
    "    ans = 0\n",
    "    # YOUR CODE GOES HERE\n",
    "\n",
    "    ans = pa * (1 + ir* round(time/356)/100)\n",
    "    return round(ans,2)"
   ]
  },
  {
   "cell_type": "code",
   "execution_count": 22,
   "outputs": [
    {
     "data": {
      "text/plain": "9685.63"
     },
     "execution_count": 22,
     "metadata": {},
     "output_type": "execute_result"
    }
   ],
   "source": [
    "simple_int(365,9172,5.6)"
   ],
   "metadata": {
    "collapsed": false
   }
  },
  {
   "cell_type": "code",
   "execution_count": 23,
   "outputs": [
    {
     "data": {
      "text/plain": "10260.0"
     },
     "execution_count": 23,
     "metadata": {},
     "output_type": "execute_result"
    }
   ],
   "source": [
    "simple_int(789,10000.0,1.3)\n"
   ],
   "metadata": {
    "collapsed": false
   }
  },
  {
   "cell_type": "code",
   "execution_count": 30,
   "outputs": [],
   "source": [
    "a = (1,2,[10,20])"
   ],
   "metadata": {
    "collapsed": false
   }
  },
  {
   "cell_type": "code",
   "execution_count": 31,
   "outputs": [
    {
     "data": {
      "text/plain": "140275925539392"
     },
     "execution_count": 31,
     "metadata": {},
     "output_type": "execute_result"
    }
   ],
   "source": [
    "id(a)"
   ],
   "metadata": {
    "collapsed": false
   }
  },
  {
   "cell_type": "code",
   "execution_count": 32,
   "outputs": [],
   "source": [
    "a[2].append(30)"
   ],
   "metadata": {
    "collapsed": false
   }
  },
  {
   "cell_type": "code",
   "execution_count": 33,
   "outputs": [
    {
     "data": {
      "text/plain": "(1, 2, [10, 20, 30])"
     },
     "execution_count": 33,
     "metadata": {},
     "output_type": "execute_result"
    }
   ],
   "source": [
    "a"
   ],
   "metadata": {
    "collapsed": false
   }
  },
  {
   "cell_type": "code",
   "execution_count": 34,
   "outputs": [
    {
     "data": {
      "text/plain": "140275925539392"
     },
     "execution_count": 34,
     "metadata": {},
     "output_type": "execute_result"
    }
   ],
   "source": [
    "id(a)"
   ],
   "metadata": {
    "collapsed": false
   }
  },
  {
   "cell_type": "code",
   "execution_count": 29,
   "outputs": [
    {
     "ename": "SyntaxError",
     "evalue": "invalid syntax (2301060995.py, line 1)",
     "output_type": "error",
     "traceback": [
      "\u001B[0;36m  File \u001B[0;32m\"/var/folders/sg/qf1dw3cs4q5007gb2_9zd8600000gr/T/ipykernel_73361/2301060995.py\"\u001B[0;36m, line \u001B[0;32m1\u001B[0m\n\u001B[0;31m    Just thought to share this,\u001B[0m\n\u001B[0m         ^\u001B[0m\n\u001B[0;31mSyntaxError\u001B[0m\u001B[0;31m:\u001B[0m invalid syntax\n"
     ]
    }
   ],
   "source": [],
   "metadata": {
    "collapsed": false
   }
  },
  {
   "cell_type": "code",
   "execution_count": 36,
   "outputs": [
    {
     "data": {
      "text/plain": "140276719085872"
     },
     "execution_count": 36,
     "metadata": {},
     "output_type": "execute_result"
    }
   ],
   "source": [
    "id(a[0])"
   ],
   "metadata": {
    "collapsed": false
   }
  },
  {
   "cell_type": "code",
   "execution_count": 37,
   "outputs": [
    {
     "data": {
      "text/plain": "140275925539392"
     },
     "execution_count": 37,
     "metadata": {},
     "output_type": "execute_result"
    }
   ],
   "source": [
    "id(a)"
   ],
   "metadata": {
    "collapsed": false
   }
  },
  {
   "cell_type": "code",
   "execution_count": 41,
   "outputs": [
    {
     "name": "stdout",
     "output_type": "stream",
     "text": [
      "hello world\n"
     ]
    }
   ],
   "source": [
    "import ctypes\n",
    "a = \"hello world\"\n",
    "print(ctypes.cast(id(a), ctypes.py_object).value)"
   ],
   "metadata": {
    "collapsed": false
   }
  },
  {
   "cell_type": "code",
   "execution_count": 44,
   "outputs": [],
   "source": [
    "a = (1,2,[10,20])\n"
   ],
   "metadata": {
    "collapsed": false
   }
  },
  {
   "cell_type": "code",
   "execution_count": 50,
   "outputs": [
    {
     "ename": "SyntaxError",
     "evalue": "unexpected EOF while parsing (1092166680.py, line 1)",
     "output_type": "error",
     "traceback": [
      "\u001B[0;36m  File \u001B[0;32m\"/var/folders/sg/qf1dw3cs4q5007gb2_9zd8600000gr/T/ipykernel_73361/1092166680.py\"\u001B[0;36m, line \u001B[0;32m1\u001B[0m\n\u001B[0;31m    ctypes.cast(id(a[0])\u001B[0m\n\u001B[0m                        ^\u001B[0m\n\u001B[0;31mSyntaxError\u001B[0m\u001B[0;31m:\u001B[0m unexpected EOF while parsing\n"
     ]
    }
   ],
   "source": [],
   "metadata": {
    "collapsed": false
   }
  },
  {
   "cell_type": "code",
   "execution_count": 47,
   "outputs": [],
   "source": [
    "import gc"
   ],
   "metadata": {
    "collapsed": false
   }
  },
  {
   "cell_type": "code",
   "execution_count": 51,
   "outputs": [
    {
     "data": {
      "text/plain": "(1, 2, [10, 20])"
     },
     "execution_count": 51,
     "metadata": {},
     "output_type": "execute_result"
    }
   ],
   "source": [
    "a"
   ],
   "metadata": {
    "collapsed": false
   }
  },
  {
   "cell_type": "code",
   "execution_count": 52,
   "outputs": [
    {
     "data": {
      "text/plain": "140276472247744"
     },
     "execution_count": 52,
     "metadata": {},
     "output_type": "execute_result"
    }
   ],
   "source": [
    "id(a)"
   ],
   "metadata": {
    "collapsed": false
   }
  },
  {
   "cell_type": "code",
   "execution_count": 53,
   "outputs": [
    {
     "data": {
      "text/plain": "140276472247168"
     },
     "execution_count": 53,
     "metadata": {},
     "output_type": "execute_result"
    }
   ],
   "source": [
    "id(a[2])"
   ],
   "metadata": {
    "collapsed": false
   }
  },
  {
   "cell_type": "code",
   "execution_count": 54,
   "outputs": [],
   "source": [
    "a[2].append(30)"
   ],
   "metadata": {
    "collapsed": false
   }
  },
  {
   "cell_type": "code",
   "execution_count": 55,
   "outputs": [
    {
     "data": {
      "text/plain": "140276472247744"
     },
     "execution_count": 55,
     "metadata": {},
     "output_type": "execute_result"
    }
   ],
   "source": [
    "id(a)"
   ],
   "metadata": {
    "collapsed": false
   }
  },
  {
   "cell_type": "code",
   "execution_count": 56,
   "outputs": [
    {
     "data": {
      "text/plain": "140276472247168"
     },
     "execution_count": 56,
     "metadata": {},
     "output_type": "execute_result"
    }
   ],
   "source": [
    "id(a[2])"
   ],
   "metadata": {
    "collapsed": false
   }
  },
  {
   "cell_type": "code",
   "execution_count": 57,
   "outputs": [],
   "source": [
    "a = [1]"
   ],
   "metadata": {
    "collapsed": false
   }
  },
  {
   "cell_type": "code",
   "execution_count": 58,
   "outputs": [
    {
     "data": {
      "text/plain": "64"
     },
     "execution_count": 58,
     "metadata": {},
     "output_type": "execute_result"
    }
   ],
   "source": [
    "import sys\n",
    "sys.getsizeof(a)"
   ],
   "metadata": {
    "collapsed": false
   }
  },
  {
   "cell_type": "code",
   "execution_count": 59,
   "outputs": [],
   "source": [
    "a.append(100)"
   ],
   "metadata": {
    "collapsed": false
   }
  },
  {
   "cell_type": "code",
   "execution_count": 60,
   "outputs": [
    {
     "data": {
      "text/plain": "120"
     },
     "execution_count": 60,
     "metadata": {},
     "output_type": "execute_result"
    }
   ],
   "source": [
    "sys.getsizeof(a)"
   ],
   "metadata": {
    "collapsed": false
   }
  },
  {
   "cell_type": "code",
   "execution_count": 4,
   "outputs": [
    {
     "name": "stdout",
     "output_type": "stream",
     "text": [
      "('Alice', 'Charlie')\n"
     ]
    }
   ],
   "source": [
    "from typing import List, Tuple\n",
    "\n",
    "def pair_students(names: List[str], locations: List[Tuple[int, int]]) -> Tuple[str, str]:\n",
    "    min_distance = float('inf')\n",
    "    students = None\n",
    "    for i in range(len(names)):\n",
    "        for j in range(i+1, len(names)):\n",
    "            distance = abs(locations[i][0] - locations[j][0]) + abs(locations[i][1] - locations[j][1])\n",
    "            if distance < min_distance:\n",
    "                min_distance = distance\n",
    "                students = (names[i], names[j])\n",
    "    return students\n",
    "\n",
    "# Test the function\n",
    "names = ['Alice', 'Bob', 'Charlie', 'Debbie', 'Maxine']\n",
    "locations = [(1,2),(5,4),(0,3),(2,3),(0,0)]\n",
    "print(pair_students(names, locations)) # should print ('Alice', 'Bob')\n"
   ],
   "metadata": {
    "collapsed": false
   }
  },
  {
   "cell_type": "code",
   "execution_count": 9,
   "outputs": [],
   "source": [
    "def nearestStudents(names, locations):\n",
    "    min_distance = float('inf')\n",
    "    students = None\n",
    "    for i in range(len(names)):\n",
    "        for j in range(i+1, len(names)):\n",
    "            distance = abs(locations[i][0] - locations[j][0]) + abs(locations[i][1] - locations[j][1])\n",
    "            if distance < min_distance:\n",
    "                min_distance = distance\n",
    "                students = [names[i], names[j]]\n",
    "    return students\n"
   ],
   "metadata": {
    "collapsed": false
   }
  },
  {
   "cell_type": "code",
   "execution_count": 10,
   "outputs": [
    {
     "name": "stdout",
     "output_type": "stream",
     "text": [
      "['Alice', 'Charlie']\n"
     ]
    }
   ],
   "source": [
    "names = ['Alice', 'Bob', 'Charlie', 'Debbie', 'Maxine']\n",
    "locations = [(1,2),(5,4),(0,3),(2,3),(0,0)]\n",
    "print(nearestStudents(names, locations))"
   ],
   "metadata": {
    "collapsed": false
   }
  },
  {
   "cell_type": "code",
   "execution_count": 12,
   "outputs": [
    {
     "name": "stdout",
     "output_type": "stream",
     "text": [
      "True\n"
     ]
    }
   ],
   "source": [
    "from typing import Tuple\n",
    "\n",
    "def check_point(p1, p2, a, b, c):\n",
    "    mid_x = (p1[0] + p2[0]) / 2\n",
    "    mid_y = (p1[1] + p2[1]) / 2\n",
    "\n",
    "    if a * mid_x + b * mid_y + c == 0:\n",
    "        return True\n",
    "    else:\n",
    "        return False\n",
    "\n",
    "# Test the function\n",
    "p1 = (1, 2)\n",
    "p2 = (3, 4)\n",
    "a = 2\n",
    "b = -2\n",
    "c = 2\n",
    "print(check_midpoint(p1, p2, a, b, c)) # should print True\n"
   ],
   "metadata": {
    "collapsed": false
   }
  },
  {
   "cell_type": "code",
   "execution_count": 14,
   "outputs": [
    {
     "name": "stdout",
     "output_type": "stream",
     "text": [
      "1.0\n"
     ]
    }
   ],
   "source": [
    "def gradient(p1, p2):\n",
    "    # Calculate the gradient of the line using the formula (y2 - y1) / (x2 - x1)\n",
    "    gradient = (p2[1] - p1[1]) / (p2[0] - p1[0])\n",
    "    return gradient\n",
    "\n",
    "# Test the function\n",
    "p1 = (1, 1)\n",
    "p2 = (2,2)\n",
    "print(gradient(p1, p2)) # should print 1.0\n"
   ],
   "metadata": {
    "collapsed": false
   }
  },
  {
   "cell_type": "code",
   "execution_count": 16,
   "outputs": [
    {
     "name": "stdout",
     "output_type": "stream",
     "text": [
      "True\n",
      "False\n"
     ]
    }
   ],
   "source": [
    "from typing import Tuple\n",
    "\n",
    "def are_collinear(p1, p2, p3):\n",
    "    # Calculate the slopes of the lines joining p1-p2 and p2-p3\n",
    "    m1 = (p2[1] - p1[1]) / (p2[0] - p1[0])\n",
    "    m2 = (p3[1] - p2[1]) / (p3[0] - p2[0])\n",
    "\n",
    "    # If the slopes are equal, the points are collinear\n",
    "    if m1 == m2:\n",
    "        return True\n",
    "    else:\n",
    "        return False\n",
    "\n",
    "# Test the function\n",
    "p1 = (1, 2)\n",
    "p2 = (3, 4)\n",
    "p3 = (5, 6)\n",
    "print(are_collinear(p1, p2, p3)) # should print True\n",
    "\n",
    "p1 = (1, 2)\n",
    "p2 = (3, 4)\n",
    "p3 = (5, 7)\n",
    "print(are_collinear(p1, p2, p3)) # should print False\n"
   ],
   "metadata": {
    "collapsed": false
   }
  },
  {
   "cell_type": "code",
   "execution_count": null,
   "outputs": [],
   "source": [],
   "metadata": {
    "collapsed": false,
    "pycharm": {
     "is_executing": true
    }
   }
  },
  {
   "cell_type": "code",
   "execution_count": 36,
   "outputs": [],
   "source": [
    "class People:\n",
    "\n",
    "    def __init__(self, name, age):\n",
    "        self.name = name\n",
    "        self.age = age\n",
    "\n",
    "class Baby(People):\n",
    "\n",
    "    def __init__(self, name, age, area):\n",
    "        super().__init__(name, age)\n",
    "        self.area = area\n"
   ],
   "metadata": {
    "collapsed": false
   }
  },
  {
   "cell_type": "code",
   "execution_count": 37,
   "outputs": [],
   "source": [
    "p = People('suman', 37)"
   ],
   "metadata": {
    "collapsed": false
   }
  },
  {
   "cell_type": "code",
   "execution_count": 38,
   "outputs": [],
   "source": [
    "b = Baby('reyaan', 3, 'suman')"
   ],
   "metadata": {
    "collapsed": false
   }
  },
  {
   "cell_type": "code",
   "execution_count": null,
   "outputs": [],
   "source": [],
   "metadata": {
    "collapsed": false
   }
  }
 ],
 "metadata": {
  "kernelspec": {
   "display_name": "Python 3",
   "language": "python",
   "name": "python3"
  },
  "language_info": {
   "codemirror_mode": {
    "name": "ipython",
    "version": 3
   },
   "file_extension": ".py",
   "mimetype": "text/x-python",
   "name": "python",
   "nbconvert_exporter": "python",
   "pygments_lexer": "ipython3",
   "version": "3.9.7"
  }
 },
 "nbformat": 4,
 "nbformat_minor": 5
}
