{
 "cells": [
  {
   "cell_type": "code",
   "execution_count": 5,
   "id": "b5848b9d-7c94-4b1a-ae62-5fd20884768d",
   "metadata": {},
   "outputs": [],
   "source": [
    "import math\n",
    "from scipy.stats import t\n",
    "import numpy as np "
   ]
  },
  {
   "cell_type": "code",
   "execution_count": 120,
   "id": "5a476290-9d22-40c5-887a-d869fb9c5638",
   "metadata": {},
   "outputs": [],
   "source": [
    "def get_z_critical(alpha, test_type, n):\n",
    "\n",
    "    if test_type == 'tt':\n",
    "        z_critical = abs(t.ppf(1 - alpha, df=n-1))\n",
    "    elif test_type == 'rt':\n",
    "        z_critical = t.ppf(1 - alpha, df=n-1)\n",
    "    else:\n",
    "        z_critical = t.ppf(alpha, df=n)\n",
    "        \n",
    "    return z_critical\n",
    "\n",
    "def get_p_value(z, n):\n",
    "    \n",
    "    p_value = 1 - t.cdf(z, df=n-1)\n",
    "    \n",
    "    return p_value"
   ]
  },
  {
   "cell_type": "code",
   "execution_count": 125,
   "id": "dc6a4a70-4376-486b-b75c-43aae6fdebb3",
   "metadata": {},
   "outputs": [
    {
     "name": "stdin",
     "output_type": "stream",
     "text": [
      "Enter the mean:  200\n",
      "Enter the no. of elements in the sample (n) :  10\n",
      "Enter the sample mean:  194.5\n",
      "Enter the sample standard deviation:  10\n",
      "Enter value of alpha (0.01, 0.05, 0.10):  0.05\n",
      "Enter the test type (tt: 2-tail,  rt: right-tail, lt: left-tail) : tt\n"
     ]
    },
    {
     "name": "stdout",
     "output_type": "stream",
     "text": [
      "Not enough evidence to reject the Null Hypothesis\n",
      "p-value is 0.9420063306838379, z_critical is 1.8331129326536335\n"
     ]
    }
   ],
   "source": [
    "# Given population mean\n",
    "mu_0 = int(input(\"Enter the mean: \"))\n",
    "\n",
    "# Given No. of elements in the sample \n",
    "n = int(input(\"Enter the no. of elements in the sample (n) : \"))\n",
    "\n",
    "# Given Sample mean \n",
    "x_bar = float(input(\"Enter the sample mean: \"))\n",
    "\n",
    "# Given Sample standard deviation \n",
    "sigma = float(input(\"Enter the sample standard deviation: \"))\n",
    "\n",
    "# Given value of Alpha \n",
    "alpha = float(input(\"Enter value of alpha (0.01, 0.05, 0.10): \"))\n",
    "\n",
    "# Given Test type\n",
    "while True:\n",
    "    test_type = (input(\"Enter the test type (tt: 2-tail,  rt: right-tail, lt: left-tail) :\")).lower()\n",
    "    if test_type in ('tt', 'rt', 'lt'):\n",
    "        break\n",
    "    else:\n",
    "        continue\n",
    "\n",
    "# Computing the test statistic (z-value) \n",
    "z = (x_bar - mu_0) / (sigma / math.sqrt(n)) \n",
    "\n",
    "# Compute the z-critical \n",
    "z_critical = get_z_critical(alpha, test_type, n) \n",
    "\n",
    "# Computing the p-value\n",
    "p_value = get_p_value(z, n)\n",
    "\n",
    "# Final verdict\n",
    "if abs(z) > z_critical:\n",
    "    print(\"Null Hypothesis is rejected\")\n",
    "    print(f\"p-value is {p_value}, z_critical is {z_critical}\") \n",
    "else:\n",
    "    print(\"Not enough evidence to reject the Null Hypothesis\")\n",
    "    print(f\"p-value is {p_value}, z_critical is {z_critical}\")       "
   ]
  },
  {
   "cell_type": "code",
   "execution_count": 151,
   "id": "5248a0a4-b338-419a-b257-8fad99c64c4b",
   "metadata": {},
   "outputs": [
    {
     "name": "stdout",
     "output_type": "stream",
     "text": [
      "Z-score: -0.8944271909999159\n",
      "p-value: 0.18554668476134878\n",
      "Fail to reject the null hypothesis. People from the state are not shorter.\n"
     ]
    }
   ],
   "source": [
    "import scipy.stats as stats\n",
    "\n",
    "population_mean = 65  # Population average height\n",
    "population_std = 2.5  # Population standard deviation\n",
    "sample_mean = 64.5  # Sample average height\n",
    "sample_size = 20  # Sample size\n",
    "\n",
    "# Calculate the Z-score (test statistic)\n",
    "z_score = (sample_mean - population_mean) / (population_std / (sample_size ** 0.5))\n",
    "\n",
    "# Calculate the p-value\n",
    "p_value = stats.norm.cdf(z_score)\n",
    "\n",
    "alpha = 0.05  # Significance level\n",
    "\n",
    "# Compare the p-value with the significance level\n",
    "if p_value < alpha:\n",
    "    conclusion = \"Reject the null hypothesis. People from the state are shorter.\"\n",
    "else:\n",
    "    conclusion = \"Fail to reject the null hypothesis. People from the state are not shorter.\"\n",
    "\n",
    "print(\"Z-score:\", z_score)\n",
    "print(\"p-value:\", p_value)\n",
    "print(conclusion)\n"
   ]
  },
  {
   "cell_type": "code",
   "execution_count": 160,
   "id": "50976797-0569-469c-9203-f3a1c964b2dc",
   "metadata": {},
   "outputs": [
    {
     "name": "stdout",
     "output_type": "stream",
     "text": [
      "Z-score: 1.8601633295108115\n",
      "p-value: 0.031431210741779014\n",
      "Reject the null hypothesis. Students from the coaching center are better.\n"
     ]
    }
   ],
   "source": [
    "import scipy.stats as stats\n",
    "\n",
    "population_mean = 150  # Population average score\n",
    "population_std = 8.5  # Population standard deviation\n",
    "sample_mean = 155  # Sample average score\n",
    "sample_size = 10  # Sample size\n",
    "\n",
    "# Calculate the Z-score (test statistic)\n",
    "z_score = (sample_mean - population_mean) / (population_std / (sample_size ** 0.5))\n",
    "\n",
    "# Calculate the p-value\n",
    "p_value = 1 - stats.norm.cdf(z_score)\n",
    "\n",
    "alpha = 0.05  # Significance level\n",
    "\n",
    "# Compare the p-value with the significance level\n",
    "if p_value < alpha:\n",
    "    conclusion = \"Reject the null hypothesis. Students from the coaching center are better.\"\n",
    "else:\n",
    "    conclusion = \"Fail to reject the null hypothesis. Students from the coaching center are not better.\"\n",
    "\n",
    "print(\"Z-score:\", z_score)\n",
    "print(\"p-value:\", p_value)\n",
    "print(conclusion)\n"
   ]
  },
  {
   "cell_type": "code",
   "execution_count": 168,
   "id": "c3d4d622-e0b4-4ed0-bd8c-9ea87d9bee36",
   "metadata": {},
   "outputs": [
    {
     "name": "stdout",
     "output_type": "stream",
     "text": [
      "Z-score: 2.01\n",
      "Reject the null hypothesis. The claim that the average number of pastries exceeds 500 is supported.\n"
     ]
    }
   ],
   "source": [
    "import scipy.stats as stats\n",
    "\n",
    "population_mean = 500  # Claimed average number of pastries produced per day\n",
    "population_std = 125  # Population standard deviation\n",
    "sample_mean = 530  # Sample average number of pastries produced per day\n",
    "sample_size = 70  # Sample size\n",
    "\n",
    "# Calculate the Z-score (test statistic)\n",
    "z_score = (sample_mean - population_mean) / (population_std / (sample_size ** 0.5))\n",
    "\n",
    "critical_z_value = 1.64  # Critical z-value at alpha = 0.05\n",
    "\n",
    "# Compare the Z-score with the critical z-value\n",
    "if z_score > critical_z_value:\n",
    "    conclusion = \"Reject the null hypothesis. The claim that the average number of pastries exceeds 500 is supported.\"\n",
    "else:\n",
    "    conclusion = \"Fail to reject the null hypothesis. There is not enough evidence to support the claim that the average number of pastries exceeds 500.\"\n",
    "\n",
    "z_score_rounded = round(z_score, 2)\n",
    "\n",
    "print(\"Z-score:\", z_score_rounded)\n",
    "print(conclusion)\n"
   ]
  },
  {
   "cell_type": "code",
   "execution_count": 171,
   "id": "ccbac542-bc04-4e73-9ba2-9614cc7820f4",
   "metadata": {},
   "outputs": [
    {
     "name": "stdout",
     "output_type": "stream",
     "text": [
      "Z-score: 1.64\n",
      "Fail to reject the null hypothesis. There is not enough evidence to reject the claim that each person drinks an average of 1.7 small cups of tea.\n"
     ]
    }
   ],
   "source": [
    "import scipy.stats as stats\n",
    "\n",
    "population_mean = 1.7  # Estimated average number of small cups of tea per person\n",
    "population_std = 0.5  # Population standard deviation\n",
    "sample_mean = 1.85  # Sample average number of small cups of tea per person\n",
    "sample_size = 30  # Sample size\n",
    "\n",
    "# Calculate the Z-score (test statistic)\n",
    "z_score = (sample_mean - population_mean) / (population_std / (sample_size ** 0.5))\n",
    "\n",
    "critical_z_value = 1.96  # Critical z-value at alpha = 0.05\n",
    "\n",
    "# Compare the Z-score with the critical z-value\n",
    "if abs(z_score) > critical_z_value:\n",
    "    conclusion = \"Reject the null hypothesis. The claim that each person drinks an average of 1.7 small cups of tea is not supported.\"\n",
    "else:\n",
    "    conclusion = \"Fail to reject the null hypothesis. There is not enough evidence to reject the claim that each person drinks an average of 1.7 small cups of tea.\"\n",
    "\n",
    "z_score_rounded = round(z_score, 2)\n",
    "\n",
    "print(\"Z-score:\", z_score_rounded)\n",
    "print(conclusion)\n"
   ]
  },
  {
   "cell_type": "code",
   "execution_count": 179,
   "id": "47e064c1-d759-48a0-bdd1-9f03b6205f8b",
   "metadata": {},
   "outputs": [
    {
     "name": "stdout",
     "output_type": "stream",
     "text": [
      "Critical sample mean: 3.634\n"
     ]
    }
   ],
   "source": [
    "critical_z_value = 1.28  # Critical z-value\n",
    "population_mean = 3.5  # Estimated mean number of buckets used per day\n",
    "population_std = 0.7  # Population standard deviation\n",
    "\n",
    "# Calculate the critical sample mean\n",
    "critical_sample_mean = population_mean + (critical_z_value * (population_std / (45 ** 0.5)))\n",
    "\n",
    "critical_sample_mean_rounded = round(critical_sample_mean, 3)\n",
    "\n",
    "print(\"Critical sample mean:\", critical_sample_mean_rounded)\n"
   ]
  },
  {
   "cell_type": "code",
   "execution_count": 175,
   "id": "8e3ac17e-eb9c-49a3-9cc2-9a0f05c92409",
   "metadata": {},
   "outputs": [],
   "source": [
    "x_bar = 3.5\n",
    "mu_0 = 3.72\n",
    "n = 45\n",
    "sigma = .7"
   ]
  },
  {
   "cell_type": "code",
   "execution_count": 176,
   "id": "f548453f-e333-4027-bc13-f9d7845c003c",
   "metadata": {},
   "outputs": [
    {
     "data": {
      "text/plain": [
       "-2.1082926644998037"
      ]
     },
     "execution_count": 176,
     "metadata": {},
     "output_type": "execute_result"
    }
   ],
   "source": [
    "z = (x_bar - mu_0) / (sigma / np.sqrt(n)) \n",
    "z"
   ]
  },
  {
   "cell_type": "code",
   "execution_count": 178,
   "id": "f31d1686-d7a4-40cf-bf60-3d22a1096535",
   "metadata": {},
   "outputs": [
    {
     "data": {
      "text/plain": [
       "0.017502841038546543"
      ]
     },
     "execution_count": 178,
     "metadata": {},
     "output_type": "execute_result"
    }
   ],
   "source": [
    "norm.cdf(z)"
   ]
  },
  {
   "cell_type": "code",
   "execution_count": 158,
   "id": "01442c5b-89a9-4514-9d10-7774be666a9b",
   "metadata": {},
   "outputs": [
    {
     "data": {
      "text/plain": [
       "1.6448536269514722"
      ]
     },
     "execution_count": 158,
     "metadata": {},
     "output_type": "execute_result"
    }
   ],
   "source": [
    "norm.ppf(1-.05)"
   ]
  },
  {
   "cell_type": "code",
   "execution_count": null,
   "id": "70ef3d4c-66b6-4361-ab5b-16e91ec2724b",
   "metadata": {},
   "outputs": [],
   "source": []
  }
 ],
 "metadata": {
  "kernelspec": {
   "display_name": "Python 3 (ipykernel)",
   "language": "python",
   "name": "python3"
  },
  "language_info": {
   "codemirror_mode": {
    "name": "ipython",
    "version": 3
   },
   "file_extension": ".py",
   "mimetype": "text/x-python",
   "name": "python",
   "nbconvert_exporter": "python",
   "pygments_lexer": "ipython3",
   "version": "3.10.9"
  }
 },
 "nbformat": 4,
 "nbformat_minor": 5
}
