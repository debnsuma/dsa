{
 "cells": [
  {
   "cell_type": "code",
   "execution_count": 5,
   "id": "b5848b9d-7c94-4b1a-ae62-5fd20884768d",
   "metadata": {},
   "outputs": [],
   "source": [
    "import math\n",
    "from scipy.stats import t\n",
    "import numpy as np "
   ]
  },
  {
   "cell_type": "code",
   "execution_count": 151,
   "id": "5248a0a4-b338-419a-b257-8fad99c64c4b",
   "metadata": {},
   "outputs": [
    {
     "name": "stdout",
     "output_type": "stream",
     "text": [
      "Z-score: -0.8944271909999159\n",
      "p-value: 0.18554668476134878\n",
      "Fail to reject the null hypothesis. People from the state are not shorter.\n"
     ]
    }
   ],
   "source": [
    "import scipy.stats as stats\n",
    "\n",
    "population_mean = 65  # Population average height\n",
    "population_std = 2.5  # Population standard deviation\n",
    "sample_mean = 64.5  # Sample average height\n",
    "sample_size = 20  # Sample size\n",
    "\n",
    "# Calculate the Z-score (test statistic)\n",
    "z_score = (sample_mean - population_mean) / (population_std / (sample_size ** 0.5))\n",
    "\n",
    "# Calculate the p-value\n",
    "p_value = stats.norm.cdf(z_score)\n",
    "\n",
    "alpha = 0.05  # Significance level\n",
    "\n",
    "# Compare the p-value with the significance level\n",
    "if p_value < alpha:\n",
    "    conclusion = \"Reject the null hypothesis. People from the state are shorter.\"\n",
    "else:\n",
    "    conclusion = \"Fail to reject the null hypothesis. People from the state are not shorter.\"\n",
    "\n",
    "print(\"Z-score:\", z_score)\n",
    "print(\"p-value:\", p_value)\n",
    "print(conclusion)\n"
   ]
  },
  {
   "cell_type": "code",
   "execution_count": 160,
   "id": "50976797-0569-469c-9203-f3a1c964b2dc",
   "metadata": {},
   "outputs": [
    {
     "name": "stdout",
     "output_type": "stream",
     "text": [
      "Z-score: 1.8601633295108115\n",
      "p-value: 0.031431210741779014\n",
      "Reject the null hypothesis. Students from the coaching center are better.\n"
     ]
    }
   ],
   "source": [
    "import scipy.stats as stats\n",
    "\n",
    "population_mean = 150  # Population average score\n",
    "population_std = 8.5  # Population standard deviation\n",
    "sample_mean = 155  # Sample average score\n",
    "sample_size = 10  # Sample size\n",
    "\n",
    "# Calculate the Z-score (test statistic)\n",
    "z_score = (sample_mean - population_mean) / (population_std / (sample_size ** 0.5))\n",
    "\n",
    "# Calculate the p-value\n",
    "p_value = 1 - stats.norm.cdf(z_score)\n",
    "\n",
    "alpha = 0.05  # Significance level\n",
    "\n",
    "# Compare the p-value with the significance level\n",
    "if p_value < alpha:\n",
    "    conclusion = \"Reject the null hypothesis. Students from the coaching center are better.\"\n",
    "else:\n",
    "    conclusion = \"Fail to reject the null hypothesis. Students from the coaching center are not better.\"\n",
    "\n",
    "print(\"Z-score:\", z_score)\n",
    "print(\"p-value:\", p_value)\n",
    "print(conclusion)\n"
   ]
  },
  {
   "cell_type": "code",
   "execution_count": 168,
   "id": "c3d4d622-e0b4-4ed0-bd8c-9ea87d9bee36",
   "metadata": {},
   "outputs": [
    {
     "name": "stdout",
     "output_type": "stream",
     "text": [
      "Z-score: 2.01\n",
      "Reject the null hypothesis. The claim that the average number of pastries exceeds 500 is supported.\n"
     ]
    }
   ],
   "source": [
    "import scipy.stats as stats\n",
    "\n",
    "population_mean = 500  # Claimed average number of pastries produced per day\n",
    "population_std = 125  # Population standard deviation\n",
    "sample_mean = 530  # Sample average number of pastries produced per day\n",
    "sample_size = 70  # Sample size\n",
    "\n",
    "# Calculate the Z-score (test statistic)\n",
    "z_score = (sample_mean - population_mean) / (population_std / (sample_size ** 0.5))\n",
    "\n",
    "critical_z_value = 1.64  # Critical z-value at alpha = 0.05\n",
    "\n",
    "# Compare the Z-score with the critical z-value\n",
    "if z_score > critical_z_value:\n",
    "    conclusion = \"Reject the null hypothesis. The claim that the average number of pastries exceeds 500 is supported.\"\n",
    "else:\n",
    "    conclusion = \"Fail to reject the null hypothesis. There is not enough evidence to support the claim that the average number of pastries exceeds 500.\"\n",
    "\n",
    "z_score_rounded = round(z_score, 2)\n",
    "\n",
    "print(\"Z-score:\", z_score_rounded)\n",
    "print(conclusion)\n"
   ]
  },
  {
   "cell_type": "code",
   "execution_count": 171,
   "id": "ccbac542-bc04-4e73-9ba2-9614cc7820f4",
   "metadata": {},
   "outputs": [
    {
     "name": "stdout",
     "output_type": "stream",
     "text": [
      "Z-score: 1.64\n",
      "Fail to reject the null hypothesis. There is not enough evidence to reject the claim that each person drinks an average of 1.7 small cups of tea.\n"
     ]
    }
   ],
   "source": [
    "import scipy.stats as stats\n",
    "\n",
    "population_mean = 1.7  # Estimated average number of small cups of tea per person\n",
    "population_std = 0.5  # Population standard deviation\n",
    "sample_mean = 1.85  # Sample average number of small cups of tea per person\n",
    "sample_size = 30  # Sample size\n",
    "\n",
    "# Calculate the Z-score (test statistic)\n",
    "z_score = (sample_mean - population_mean) / (population_std / (sample_size ** 0.5))\n",
    "\n",
    "critical_z_value = 1.96  # Critical z-value at alpha = 0.05\n",
    "\n",
    "# Compare the Z-score with the critical z-value\n",
    "if abs(z_score) > critical_z_value:\n",
    "    conclusion = \"Reject the null hypothesis. The claim that each person drinks an average of 1.7 small cups of tea is not supported.\"\n",
    "else:\n",
    "    conclusion = \"Fail to reject the null hypothesis. There is not enough evidence to reject the claim that each person drinks an average of 1.7 small cups of tea.\"\n",
    "\n",
    "z_score_rounded = round(z_score, 2)\n",
    "\n",
    "print(\"Z-score:\", z_score_rounded)\n",
    "print(conclusion)\n"
   ]
  },
  {
   "cell_type": "code",
   "execution_count": 179,
   "id": "47e064c1-d759-48a0-bdd1-9f03b6205f8b",
   "metadata": {},
   "outputs": [
    {
     "name": "stdout",
     "output_type": "stream",
     "text": [
      "Critical sample mean: 3.634\n"
     ]
    }
   ],
   "source": [
    "critical_z_value = 1.28  # Critical z-value\n",
    "population_mean = 3.5  # Estimated mean number of buckets used per day\n",
    "population_std = 0.7  # Population standard deviation\n",
    "\n",
    "# Calculate the critical sample mean\n",
    "critical_sample_mean = population_mean + (critical_z_value * (population_std / (45 ** 0.5)))\n",
    "\n",
    "critical_sample_mean_rounded = round(critical_sample_mean, 3)\n",
    "\n",
    "print(\"Critical sample mean:\", critical_sample_mean_rounded)\n"
   ]
  },
  {
   "cell_type": "code",
   "execution_count": 11,
   "id": "8e3ac17e-eb9c-49a3-9cc2-9a0f05c92409",
   "metadata": {},
   "outputs": [],
   "source": [
    "x_bar = 3.5\n",
    "mu_0 = 3.72\n",
    "n = 45\n",
    "sigma = .7"
   ]
  },
  {
   "cell_type": "code",
   "execution_count": 10,
   "id": "f548453f-e333-4027-bc13-f9d7845c003c",
   "metadata": {},
   "outputs": [
    {
     "ename": "NameError",
     "evalue": "name 'sigma' is not defined",
     "output_type": "error",
     "traceback": [
      "\u001b[0;31m---------------------------------------------------------------------------\u001b[0m",
      "\u001b[0;31mNameError\u001b[0m                                 Traceback (most recent call last)",
      "Cell \u001b[0;32mIn[10], line 1\u001b[0m\n\u001b[0;32m----> 1\u001b[0m z_stat \u001b[38;5;241m=\u001b[39m (x_bar \u001b[38;5;241m-\u001b[39m mu_0) \u001b[38;5;241m/\u001b[39m (\u001b[43msigma\u001b[49m \u001b[38;5;241m/\u001b[39m np\u001b[38;5;241m.\u001b[39msqrt(n)) \n\u001b[1;32m      2\u001b[0m z_stat\n",
      "\u001b[0;31mNameError\u001b[0m: name 'sigma' is not defined"
     ]
    }
   ],
   "source": [
    "z_stat = (x_bar - mu_0) / (sigma / np.sqrt(n)) \n",
    "z_stat"
   ]
  },
  {
   "cell_type": "code",
   "execution_count": 178,
   "id": "f31d1686-d7a4-40cf-bf60-3d22a1096535",
   "metadata": {},
   "outputs": [
    {
     "data": {
      "text/plain": [
       "0.017502841038546543"
      ]
     },
     "execution_count": 178,
     "metadata": {},
     "output_type": "execute_result"
    }
   ],
   "source": [
    "norm.cdf(z)"
   ]
  },
  {
   "cell_type": "code",
   "execution_count": 158,
   "id": "01442c5b-89a9-4514-9d10-7774be666a9b",
   "metadata": {},
   "outputs": [
    {
     "data": {
      "text/plain": [
       "1.6448536269514722"
      ]
     },
     "execution_count": 158,
     "metadata": {},
     "output_type": "execute_result"
    }
   ],
   "source": [
    "norm.ppf(1-.05)"
   ]
  },
  {
   "cell_type": "code",
   "execution_count": 1,
   "id": "4b981a98-3856-46c7-9383-cb0247b592e7",
   "metadata": {},
   "outputs": [],
   "source": [
    "import math\n",
    "from scipy.stats import t\n",
    "import numpy as np \n",
    "from scipy.stats import norm"
   ]
  },
  {
   "cell_type": "markdown",
   "id": "b81efc18-93fa-48f5-9156-936eb372978d",
   "metadata": {},
   "source": [
    "# Q1"
   ]
  },
  {
   "cell_type": "code",
   "execution_count": 20,
   "id": "7056e816-7862-4cef-9fa9-401e0c3c5da4",
   "metadata": {},
   "outputs": [],
   "source": [
    "ha = 'a new variety green gram is GIVES an yield of 12.0 quintals per hectare' \n",
    "h0 = 'It gives <= 12.0 quintals per hectare'"
   ]
  },
  {
   "cell_type": "code",
   "execution_count": 42,
   "id": "1a424470-c9bd-41bb-8669-9695aea5d5d7",
   "metadata": {},
   "outputs": [],
   "source": [
    "mu_0 = 12.0\n",
    "samples = [14.3,12.6,13.7,10.9,13.7,12.0,11.4,12.0,12.6,13.1]\n",
    "n = len(samples)\n",
    "x_bar = np.mean(samples)\n",
    "s = np.std(samples)\n",
    "alpha = 0.05"
   ]
  },
  {
   "cell_type": "code",
   "execution_count": 43,
   "id": "4dc88c9e-22c1-46f7-be22-3012b6237c5e",
   "metadata": {},
   "outputs": [
    {
     "name": "stdout",
     "output_type": "stream",
     "text": [
      "t-statistic : 1.8356436949305337\n"
     ]
    }
   ],
   "source": [
    "t_statistic = (x_bar - mu_0) / (s / np.sqrt(n-1)) \n",
    "print(f't-statistic : {t_statistic}')"
   ]
  },
  {
   "cell_type": "code",
   "execution_count": 44,
   "id": "20391dd9-ae11-4a32-9a7e-c2aef9d33986",
   "metadata": {},
   "outputs": [
    {
     "data": {
      "text/plain": [
       "0.04979938002326656"
      ]
     },
     "execution_count": 44,
     "metadata": {},
     "output_type": "execute_result"
    }
   ],
   "source": [
    "p_value = 1- t.cdf(t_statistic, n-1)\n",
    "p_value"
   ]
  },
  {
   "cell_type": "code",
   "execution_count": 45,
   "id": "daaf3247-ecf8-437d-a73d-6aaa7e98c918",
   "metadata": {},
   "outputs": [
    {
     "name": "stdout",
     "output_type": "stream",
     "text": [
      "Ho reject\n"
     ]
    }
   ],
   "source": [
    "if p_value < alpha:\n",
    "    print(\"Ho reject\")\n",
    "else:\n",
    "    print(\"Ho accept\")"
   ]
  },
  {
   "cell_type": "code",
   "execution_count": 2,
   "id": "9814b46b-dbf3-42df-a5ac-510ade60479f",
   "metadata": {},
   "outputs": [],
   "source": [
    "from scipy import stats"
   ]
  },
  {
   "cell_type": "code",
   "execution_count": 47,
   "id": "6b84f554-e7e8-441b-be87-b78a928b07c4",
   "metadata": {},
   "outputs": [
    {
     "data": {
      "text/plain": [
       "TtestResult(statistic=1.8356436949305335, pvalue=0.04979938002326665, df=9)"
      ]
     },
     "execution_count": 47,
     "metadata": {},
     "output_type": "execute_result"
    }
   ],
   "source": [
    "stats.ttest_1samp(samples,alternative = \"greater\", popmean = 12)  "
   ]
  },
  {
   "cell_type": "code",
   "execution_count": 48,
   "id": "81ab02fc-e6fc-4127-a5de-c83906a569c4",
   "metadata": {},
   "outputs": [
    {
     "name": "stdout",
     "output_type": "stream",
     "text": [
      "t-statistic: 1.8356436949305335\n",
      "p-value: 0.04979938002326665\n",
      "Critical t-value: 1.8331129326536335\n",
      "Reject the null hypothesis. Average yield is significantly higher than the expected yield.\n"
     ]
    }
   ],
   "source": [
    "import numpy as np\n",
    "from scipy import stats\n",
    "\n",
    "# Recorded yields\n",
    "yields = np.array([14.3, 12.6, 13.7, 10.9, 13.7, 12.0, 11.4, 12.0, 12.6, 13.1])\n",
    "\n",
    "# Expected yield\n",
    "expected_yield = 12.0\n",
    "\n",
    "# Perform one-sample t-test\n",
    "t_statistic, p_value = stats.ttest_1samp(yields, expected_yield, alternative='greater')\n",
    "\n",
    "# Degrees of freedom\n",
    "df = len(yields) - 1\n",
    "\n",
    "# Critical t-value for one-tailed test (α = 0.05)\n",
    "critical_t_value = stats.t.ppf(1 - 0.05, df)\n",
    "\n",
    "# Print the results\n",
    "print(\"t-statistic:\", t_statistic)\n",
    "print(\"p-value:\", p_value)\n",
    "print(\"Critical t-value:\", critical_t_value)\n",
    "\n",
    "# Compare p-value with significance level\n",
    "if p_value < 0.05:\n",
    "    print(\"Reject the null hypothesis. Average yield is significantly higher than the expected yield.\")\n",
    "else:\n",
    "    print(\"Fail to reject the null hypothesis. Average yield is not significantly higher than the expected yield.\")\n"
   ]
  },
  {
   "cell_type": "markdown",
   "id": "d45c877c-1dba-4d1b-bcb6-1cadbefcdf06",
   "metadata": {},
   "source": [
    "# Q2"
   ]
  },
  {
   "cell_type": "code",
   "execution_count": 8,
   "id": "cc53f40b-6488-42a6-b2df-f40faf451f73",
   "metadata": {},
   "outputs": [],
   "source": [
    "mu_0 = 175.3\n",
    "\n",
    "samples = [177.3, 182.7, 169.6, 176.3, 180.3, 179.4, 178.5, 177.2, 181.8, 176.5]\n",
    "n = len(samples)\n",
    "x_bar = np.mean(samples)\n",
    "s = np.std(samples)\n",
    "alpha = 0.05"
   ]
  },
  {
   "cell_type": "code",
   "execution_count": 12,
   "id": "72bb644c-d823-4474-9a31-e0c147a3e50d",
   "metadata": {},
   "outputs": [
    {
     "name": "stdout",
     "output_type": "stream",
     "text": [
      "t-statistic : 2.295568968083183\n"
     ]
    }
   ],
   "source": [
    "t_statistic = (x_bar - mu_0) / (s / np.sqrt(n-1)) \n",
    "print(f't-statistic : {t_statistic}')"
   ]
  },
  {
   "cell_type": "code",
   "execution_count": 17,
   "id": "bfe60c35-0f7f-4e74-8cbf-b467ff6da799",
   "metadata": {},
   "outputs": [],
   "source": [
    "t_stat_left = -t_statistic\n",
    "t_stat_right = t_statistic"
   ]
  },
  {
   "cell_type": "code",
   "execution_count": 19,
   "id": "b3dfda10-c910-461c-bc53-82ff883228e5",
   "metadata": {},
   "outputs": [
    {
     "data": {
      "text/plain": [
       "0.04734137339747033"
      ]
     },
     "execution_count": 19,
     "metadata": {},
     "output_type": "execute_result"
    }
   ],
   "source": [
    "p_value = t.cdf(t_stat_left, n-1)\n",
    "p_value * 2"
   ]
  },
  {
   "cell_type": "code",
   "execution_count": 10,
   "id": "85cb668a-7aae-4d28-845d-624e4d7ccfa1",
   "metadata": {},
   "outputs": [
    {
     "data": {
      "text/plain": [
       "0.023670686698735177"
      ]
     },
     "execution_count": 10,
     "metadata": {},
     "output_type": "execute_result"
    }
   ],
   "source": [
    "p_value = 1 - t.cdf(t_statistic, n-1)\n",
    "p_value"
   ]
  },
  {
   "cell_type": "code",
   "execution_count": 20,
   "id": "7c865ac7-8840-45c4-90d2-594f9b2b0c53",
   "metadata": {},
   "outputs": [
    {
     "name": "stdout",
     "output_type": "stream",
     "text": [
      "Ho reject\n"
     ]
    }
   ],
   "source": [
    "if (p_value) < alpha/2:\n",
    "    print(\"Ho reject\")\n",
    "else:\n",
    "    print(\"Ho accept\")"
   ]
  },
  {
   "cell_type": "code",
   "execution_count": 23,
   "id": "f32b50ad-3d0f-4c36-98b3-f7131a364876",
   "metadata": {},
   "outputs": [
    {
     "data": {
      "text/plain": [
       "TtestResult(statistic=2.295568968083183, pvalue=0.04734137339747033, df=9)"
      ]
     },
     "execution_count": 23,
     "metadata": {},
     "output_type": "execute_result"
    }
   ],
   "source": [
    "stats.ttest_1samp(samples,  popmean=mu_0, alternative='two-sided')"
   ]
  },
  {
   "cell_type": "code",
   "execution_count": 22,
   "id": "e7ae74ab-1705-45c1-abed-182e28587316",
   "metadata": {},
   "outputs": [
    {
     "name": "stdout",
     "output_type": "stream",
     "text": [
      "t-statistic: 2.295568968083183\n",
      "p-value: 0.04734137339747033\n",
      "Critical t-value: 2.262157162740991\n",
      "Reject the null hypothesis. Average height is significantly different from the population mean.\n"
     ]
    }
   ],
   "source": [
    "import numpy as np\n",
    "from scipy import stats\n",
    "\n",
    "# Heights recorded in the survey\n",
    "survey_height = np.array([177.3, 182.7, 169.6, 176.3, 180.3, 179.4, 178.5, 177.2, 181.8, 176.5])\n",
    "\n",
    "# Population mean\n",
    "population_mean = 175.3\n",
    "\n",
    "# Perform one-sample t-test\n",
    "t_statistic, p_value = stats.ttest_1samp(survey_height, population_mean)\n",
    "\n",
    "# Degrees of freedom\n",
    "df = len(survey_height) - 1\n",
    "\n",
    "# Critical t-value for two-tailed test (α = 0.05)\n",
    "critical_t_value = stats.t.ppf(1 - 0.05/2, df)\n",
    "\n",
    "# Print the results\n",
    "print(\"t-statistic:\", t_statistic)\n",
    "print(\"p-value:\", p_value)\n",
    "print(\"Critical t-value:\", critical_t_value)\n",
    "\n",
    "# Compare p-value with significance level\n",
    "if p_value < 0.05:\n",
    "    print(\"Reject the null hypothesis. Average height is significantly different from the population mean.\")\n",
    "else:\n",
    "    print(\"Fail to reject the null hypothesis. Average height is not significantly different from the population mean.\")\n"
   ]
  },
  {
   "cell_type": "markdown",
   "id": "96bdf7e2-f5e9-4e17-be57-91522999ad2d",
   "metadata": {},
   "source": [
    "# Q3"
   ]
  },
  {
   "cell_type": "code",
   "execution_count": 24,
   "id": "a823b2a4-8662-4002-9482-44b571bbf58e",
   "metadata": {},
   "outputs": [],
   "source": [
    "mu_0 = 20\n",
    "\n",
    "samples = [21.5, 24.5, 18.5, 17.2, 14.5, 23.2, 22.1, 20.5, 19.4, 18.1, 24.1, 18.5]\n",
    "n = len(samples)\n",
    "x_bar = np.mean(samples)\n",
    "s = np.std(samples)\n",
    "alpha = 0.05"
   ]
  },
  {
   "cell_type": "code",
   "execution_count": 25,
   "id": "4999e17e-d391-4a2f-95d9-b1ec1be2841d",
   "metadata": {},
   "outputs": [
    {
     "name": "stdout",
     "output_type": "stream",
     "text": [
      "t-statistic : 0.2006562773994862\n"
     ]
    }
   ],
   "source": [
    "t_statistic = (x_bar - mu_0) / (s / np.sqrt(n-1)) \n",
    "print(f't-statistic : {t_statistic}')"
   ]
  },
  {
   "cell_type": "code",
   "execution_count": 26,
   "id": "4d111df9-007f-4871-9845-4aea0e206c5b",
   "metadata": {},
   "outputs": [
    {
     "data": {
      "text/plain": [
       "0.42231459465268073"
      ]
     },
     "execution_count": 26,
     "metadata": {},
     "output_type": "execute_result"
    }
   ],
   "source": [
    "p_value = 1-t.cdf(t_statistic, n-1)\n",
    "p_value"
   ]
  },
  {
   "cell_type": "code",
   "execution_count": 34,
   "id": "b6c25ac7-5a70-449f-b1a6-e91a4ee46ab9",
   "metadata": {},
   "outputs": [
    {
     "name": "stdout",
     "output_type": "stream",
     "text": [
      "Ho accept\n"
     ]
    }
   ],
   "source": [
    "if (p_value) < alpha:\n",
    "    print(\"Ho reject\")\n",
    "else:\n",
    "    print(\"Ho accept\")"
   ]
  },
  {
   "cell_type": "code",
   "execution_count": 32,
   "id": "f41e718c-2d2a-4359-887d-fa2219fd8055",
   "metadata": {},
   "outputs": [
    {
     "data": {
      "text/plain": [
       "TtestResult(statistic=0.2006562773994862, pvalue=0.4223145946526807, df=11)"
      ]
     },
     "execution_count": 32,
     "metadata": {},
     "output_type": "execute_result"
    }
   ],
   "source": [
    "stats.ttest_1samp(samples,  popmean=mu_0, alternative='greater')"
   ]
  },
  {
   "cell_type": "code",
   "execution_count": 33,
   "id": "5767430b-2741-4dc3-9d2f-592e933594d9",
   "metadata": {},
   "outputs": [
    {
     "name": "stdout",
     "output_type": "stream",
     "text": [
      "t-statistic: 0.2006562773994862\n",
      "p-value: 0.4223145946526807\n",
      "Critical t-value: 1.7958848187036691\n",
      "Fail to reject the null hypothesis. Potato yield from the farms is not significantly higher than the standard yield.\n"
     ]
    }
   ],
   "source": [
    "import numpy as np\n",
    "from scipy import stats\n",
    "\n",
    "# Potato yields from the farms\n",
    "x = np.array([21.5, 24.5, 18.5, 17.2, 14.5, 23.2, 22.1, 20.5, 19.4, 18.1, 24.1, 18.5])\n",
    "\n",
    "# Population mean\n",
    "population_mean = 20.0\n",
    "\n",
    "# Perform one-sample t-test\n",
    "t_statistic, p_value = stats.ttest_1samp(x, population_mean, alternative='greater')\n",
    "\n",
    "# Degrees of freedom\n",
    "df = len(x) - 1\n",
    "\n",
    "# Critical t-value for one-tailed test (α = 0.05)\n",
    "critical_t_value = stats.t.ppf(1 - 0.05, df)\n",
    "\n",
    "# Print the results\n",
    "print(\"t-statistic:\", t_statistic)\n",
    "print(\"p-value:\", p_value)\n",
    "print(\"Critical t-value:\", critical_t_value)\n",
    "\n",
    "# Compare p-value with significance level\n",
    "if p_value < 0.05:\n",
    "    print(\"Reject the null hypothesis. Potato yield from the farms is significantly higher than the standard yield.\")\n",
    "else:\n",
    "    print(\"Fail to reject the null hypothesis. Potato yield from the farms is not significantly higher than the standard yield.\")\n"
   ]
  },
  {
   "cell_type": "markdown",
   "id": "89817447-4326-483c-9dae-21e0f585d541",
   "metadata": {},
   "source": [
    "# Q4"
   ]
  },
  {
   "cell_type": "code",
   "execution_count": 35,
   "id": "2d0819b2-ca04-449a-8826-cc0f7a2c4dad",
   "metadata": {},
   "outputs": [],
   "source": [
    "samples_1 = [13.3, 6.0, 20.0, 8.0, 14.0, 19.0, 18.0, 25.0, 16.0, 24.0, 15.0, 1.0, 15.0]\n",
    "samples_2 = [22.0, 16.0, 21.7, 21.0, 30.0, 26.0, 12.0, 23.2, 28.0, 23.0]"
   ]
  },
  {
   "cell_type": "code",
   "execution_count": 36,
   "id": "e63d7954-12ac-440d-939f-3a27f46501a1",
   "metadata": {},
   "outputs": [
    {
     "data": {
      "text/plain": [
       "Ttest_indResult(statistic=-2.799960442832919, pvalue=0.010730607904197957)"
      ]
     },
     "execution_count": 36,
     "metadata": {},
     "output_type": "execute_result"
    }
   ],
   "source": [
    "stats.ttest_ind(samples_1, samples_2)"
   ]
  },
  {
   "cell_type": "code",
   "execution_count": 37,
   "id": "c1e281f6-3e99-4a04-aac0-e9dad3a1f456",
   "metadata": {},
   "outputs": [
    {
     "name": "stdout",
     "output_type": "stream",
     "text": [
      "t-statistic: -2.799960442832919\n",
      "p-value: 0.010730607904197957\n",
      "Critical t-value: 2.079613844727662\n",
      "Reject the null hypothesis. Mean body fat percentage of men and women is statistically different.\n"
     ]
    }
   ],
   "source": [
    "import numpy as np\n",
    "from scipy import stats\n",
    "\n",
    "# Body fat percentages of men and women\n",
    "men = np.array([13.3, 6.0, 20.0, 8.0, 14.0, 19.0, 18.0, 25.0, 16.0, 24.0, 15.0, 1.0, 15.0])\n",
    "women = np.array([22.0, 16.0, 21.7, 21.0, 30.0, 26.0, 12.0, 23.2, 28.0, 23.0])\n",
    "\n",
    "# Perform two-sample t-test\n",
    "t_statistic, p_value = stats.ttest_ind(men, women)\n",
    "\n",
    "# Degrees of freedom\n",
    "df = len(men) + len(women) - 2\n",
    "\n",
    "# Critical t-value for two-tailed test (α = 0.05)\n",
    "critical_t_value = stats.t.ppf(1 - 0.05/2, df)\n",
    "\n",
    "# Print the results\n",
    "print(\"t-statistic:\", t_statistic)\n",
    "print(\"p-value:\", p_value)\n",
    "print(\"Critical t-value:\", critical_t_value)\n",
    "\n",
    "# Compare p-value with significance level\n",
    "if p_value < 0.05:\n",
    "    print(\"Reject the null hypothesis. Mean body fat percentage of men and women is statistically different.\")\n",
    "else:\n",
    "    print(\"Fail to reject the null hypothesis. Mean body fat percentage of men and women is not statistically different.\")\n"
   ]
  },
  {
   "cell_type": "markdown",
   "id": "a43ad65a-7efa-4ef4-8d2a-abfbcea811bd",
   "metadata": {},
   "source": [
    "# Q5"
   ]
  },
  {
   "cell_type": "code",
   "execution_count": 38,
   "id": "6fe3b154-3078-4ef6-aa87-af10da6e3961",
   "metadata": {},
   "outputs": [
    {
     "data": {
      "text/plain": [
       "Ttest_indResult(statistic=-0.36928503344341035, pvalue=0.7154458095186707)"
      ]
     },
     "execution_count": 38,
     "metadata": {},
     "output_type": "execute_result"
    }
   ],
   "source": [
    "school_1 = [115, 111, 112, 101, 95, 98, 100, 90, 89, 108]\n",
    "school_2 = [107, 103, 91, 99, 104, 98, 117, 113, 92, 96, 108, 115, 116, 88]\n",
    "\n",
    "stats.ttest_ind(school_1, school_2)"
   ]
  },
  {
   "cell_type": "code",
   "execution_count": 39,
   "id": "ca766522-73c3-4ab3-b345-79dcba9d38f9",
   "metadata": {},
   "outputs": [
    {
     "name": "stdout",
     "output_type": "stream",
     "text": [
      "t-statistic: -0.36928503344341035\n",
      "p-value: 0.7154458095186707\n",
      "Critical t-value: 2.0738730679040147\n",
      "Fail to reject the null hypothesis. There is no statistically significant difference in mean IQ scores of the two schools.\n"
     ]
    }
   ],
   "source": [
    "import numpy as np\n",
    "from scipy import stats\n",
    "\n",
    "# IQ scores of students from two schools\n",
    "school_1 = np.array([115, 111, 112, 101, 95, 98, 100, 90, 89, 108])\n",
    "school_2 = np.array([107, 103, 91, 99, 104, 98, 117, 113, 92, 96, 108, 115, 116, 88])\n",
    "\n",
    "# Perform two-sample t-test\n",
    "t_statistic, p_value = stats.ttest_ind(school_1, school_2)\n",
    "\n",
    "# Degrees of freedom\n",
    "df = len(school_1) + len(school_2) - 2\n",
    "\n",
    "# Critical t-value for two-tailed test (α = 0.05)\n",
    "critical_t_value = stats.t.ppf(1 - 0.05/2, df)\n",
    "\n",
    "# Print the results\n",
    "print(\"t-statistic:\", t_statistic)\n",
    "print(\"p-value:\", p_value)\n",
    "print(\"Critical t-value:\", critical_t_value)\n",
    "\n",
    "# Compare p-value with significance level\n",
    "if p_value < 0.05:\n",
    "    print(\"Reject the null hypothesis. There is a statistically significant difference in mean IQ scores of the two schools.\")\n",
    "else:\n",
    "    print(\"Fail to reject the null hypothesis. There is no statistically significant difference in mean IQ scores of the two schools.\")\n"
   ]
  },
  {
   "cell_type": "code",
   "execution_count": null,
   "id": "e8178e28-a4f7-45e4-80e6-8b5de1dcf9e2",
   "metadata": {},
   "outputs": [],
   "source": []
  }
 ],
 "metadata": {
  "kernelspec": {
   "display_name": "Python 3 (ipykernel)",
   "language": "python",
   "name": "python3"
  },
  "language_info": {
   "codemirror_mode": {
    "name": "ipython",
    "version": 3
   },
   "file_extension": ".py",
   "mimetype": "text/x-python",
   "name": "python",
   "nbconvert_exporter": "python",
   "pygments_lexer": "ipython3",
   "version": "3.10.9"
  }
 },
 "nbformat": 4,
 "nbformat_minor": 5
}
