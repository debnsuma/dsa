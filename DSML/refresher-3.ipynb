{
 "cells": [
  {
   "cell_type": "code",
   "execution_count": 2,
   "metadata": {
    "collapsed": true
   },
   "outputs": [
    {
     "name": "stdout",
     "output_type": "stream",
     "text": [
      "Ych PYcha charm3 PYcharm PYcharm\n"
     ]
    }
   ],
   "source": [
    "str1 = \"PYcharm3\"\n",
    "print(str1[1:4], str1[:5], str1[-6:], str1[0:-1], str1[:-1])"
   ]
  },
  {
   "cell_type": "code",
   "execution_count": 1,
   "outputs": [
    {
     "name": "stdout",
     "output_type": "stream",
     "text": [
      "0 P\n",
      "1 Y\n",
      "2 c\n",
      "3 h\n",
      "4 a\n",
      "5 r\n",
      "6 m\n",
      "7 3\n"
     ]
    }
   ],
   "source": [
    "for i, j in enumerate(\"PYcharm3\"):\n",
    "    print(i, j)"
   ],
   "metadata": {
    "collapsed": false
   }
  },
  {
   "cell_type": "code",
   "execution_count": 3,
   "outputs": [],
   "source": [
    "a = \"suman\""
   ],
   "metadata": {
    "collapsed": false
   }
  },
  {
   "cell_type": "code",
   "execution_count": 4,
   "outputs": [
    {
     "data": {
      "text/plain": "('s', 'u', 'm', 'a', 'n')"
     },
     "execution_count": 4,
     "metadata": {},
     "output_type": "execute_result"
    }
   ],
   "source": [
    "tuple(a)"
   ],
   "metadata": {
    "collapsed": false
   }
  },
  {
   "cell_type": "code",
   "execution_count": 5,
   "outputs": [],
   "source": [
    "def check_vowels(str):\n",
    "    vowels_list=[]\n",
    "    '''Input: str takes the string as input\n",
    "       Output: Store the vowels in vowels_list and return it.'''\n",
    "    # YOUR CODE GOES HERE\n",
    "\n",
    "    vowels_list = [ i for i in str if i in \"aeiou\"]\n",
    "\n",
    "    return vowels_list"
   ],
   "metadata": {
    "collapsed": false
   }
  },
  {
   "cell_type": "code",
   "execution_count": 6,
   "outputs": [],
   "source": [
    "a = \"abcde\""
   ],
   "metadata": {
    "collapsed": false
   }
  },
  {
   "cell_type": "code",
   "execution_count": 7,
   "outputs": [
    {
     "data": {
      "text/plain": "'c'"
     },
     "execution_count": 7,
     "metadata": {},
     "output_type": "execute_result"
    }
   ],
   "source": [
    "a[2]"
   ],
   "metadata": {
    "collapsed": false
   }
  },
  {
   "cell_type": "code",
   "execution_count": 8,
   "outputs": [
    {
     "data": {
      "text/plain": "2"
     },
     "execution_count": 8,
     "metadata": {},
     "output_type": "execute_result"
    }
   ],
   "source": [
    "a.index(\"c\")"
   ],
   "metadata": {
    "collapsed": false
   }
  },
  {
   "cell_type": "code",
   "execution_count": 23,
   "outputs": [],
   "source": [
    "def check_equal(str1, str2):\n",
    "\n",
    "    res = \"Not Same\"\n",
    "    if len(str1) != len(str2):\n",
    "        return res\n",
    "\n",
    "    length = len(str1) - 1\n",
    "    i = 0\n",
    "    matched = 0\n",
    "    # find the location of first char in str1 in str2\n",
    "\n",
    "    if str1[0] in str2:\n",
    "        j = str2.index(str1[0])\n",
    "\n",
    "        while length >= 0:\n",
    "            print(i, j)\n",
    "            if str2[j] == str1[i]:\n",
    "                matched += 1\n",
    "                i += 1\n",
    "                if j == len(str2)-1:\n",
    "                    j = 0\n",
    "                else:\n",
    "                    j += 1\n",
    "                length -= 1\n",
    "            else:\n",
    "                break\n",
    "\n",
    "    if matched == len(str1):\n",
    "        res = \"Same\"\n",
    "        return res\n",
    "    else:\n",
    "        return res\n",
    "\n"
   ],
   "metadata": {
    "collapsed": false
   }
  },
  {
   "cell_type": "code",
   "execution_count": 28,
   "outputs": [
    {
     "name": "stdout",
     "output_type": "stream",
     "text": [
      "0 0\n",
      "1 1\n",
      "Not Same\n"
     ]
    }
   ],
   "source": [
    "print(check_equal(\"abcde\", \"adeab\"))"
   ],
   "metadata": {
    "collapsed": false
   }
  },
  {
   "cell_type": "code",
   "execution_count": 3,
   "outputs": [],
   "source": [
    "def reverse(s):\n",
    "    string = \"\"\n",
    "    for i in s:\n",
    "        string = i + string\n",
    "        print(string)\n",
    "    return string"
   ],
   "metadata": {
    "collapsed": false
   }
  },
  {
   "cell_type": "code",
   "execution_count": 4,
   "outputs": [
    {
     "name": "stdout",
     "output_type": "stream",
     "text": [
      "s\n",
      "us\n",
      "mus\n",
      "amus\n",
      "namus\n"
     ]
    },
    {
     "data": {
      "text/plain": "'namus'"
     },
     "execution_count": 4,
     "metadata": {},
     "output_type": "execute_result"
    }
   ],
   "source": [
    "reverse(\"suman\")"
   ],
   "metadata": {
    "collapsed": false
   }
  },
  {
   "cell_type": "code",
   "execution_count": 11,
   "outputs": [],
   "source": [
    "def reverse(s):\n",
    "    return s[-1:0:-1]"
   ],
   "metadata": {
    "collapsed": false
   }
  },
  {
   "cell_type": "code",
   "execution_count": 12,
   "outputs": [
    {
     "data": {
      "text/plain": "'namu'"
     },
     "execution_count": 12,
     "metadata": {},
     "output_type": "execute_result"
    }
   ],
   "source": [
    "reverse(\"suman\")"
   ],
   "metadata": {
    "collapsed": false
   }
  },
  {
   "cell_type": "code",
   "execution_count": 13,
   "outputs": [],
   "source": [
    "def reverse(s):\n",
    "    return s[::-1]"
   ],
   "metadata": {
    "collapsed": false
   }
  },
  {
   "cell_type": "code",
   "execution_count": 15,
   "outputs": [
    {
     "data": {
      "text/plain": "'udnelamib arim'"
     },
     "execution_count": 15,
     "metadata": {},
     "output_type": "execute_result"
    }
   ],
   "source": [
    "reverse(\"mira bimalendu\")"
   ],
   "metadata": {
    "collapsed": false
   }
  },
  {
   "cell_type": "code",
   "execution_count": 23,
   "outputs": [],
   "source": [
    "def unknown(string):\n",
    "    a = set(string)\n",
    "\n",
    "    a=\"\".join(a)\n",
    "    print(a)"
   ],
   "metadata": {
    "collapsed": false
   }
  },
  {
   "cell_type": "code",
   "execution_count": 24,
   "outputs": [
    {
     "name": "stdout",
     "output_type": "stream",
     "text": [
      "amnsu\n"
     ]
    }
   ],
   "source": [
    "unknown(\"ssuumman\")"
   ],
   "metadata": {
    "collapsed": false
   }
  },
  {
   "cell_type": "code",
   "execution_count": 22,
   "outputs": [],
   "source": [
    "sampleDict = { \"class\":{ \"student\":{ \"name\":\"Mike\", \"marks\":{ \"physics\":70, \"history\":80 } } } }"
   ],
   "metadata": {
    "collapsed": false
   }
  },
  {
   "cell_type": "code",
   "execution_count": 25,
   "outputs": [],
   "source": [
    "from pprint import pprint as pp"
   ],
   "metadata": {
    "collapsed": false
   }
  },
  {
   "cell_type": "code",
   "execution_count": 26,
   "outputs": [
    {
     "name": "stdout",
     "output_type": "stream",
     "text": [
      "{'class': {'student': {'marks': {'history': 80, 'physics': 70},\n",
      "                       'name': 'Mike'}}}\n"
     ]
    }
   ],
   "source": [
    "pp(sampleDict)"
   ],
   "metadata": {
    "collapsed": false
   }
  },
  {
   "cell_type": "code",
   "execution_count": 28,
   "outputs": [
    {
     "data": {
      "text/plain": "80"
     },
     "execution_count": 28,
     "metadata": {},
     "output_type": "execute_result"
    }
   ],
   "source": [
    "sampleDict['class']['student']['marks']['history']"
   ],
   "metadata": {
    "collapsed": false
   }
  },
  {
   "cell_type": "code",
   "execution_count": 29,
   "outputs": [],
   "source": [
    "data = {'Arun': [25, 3, 7], 'Nihal': [50, 5, 12], 'Sanjay': [10, 4, 3]}"
   ],
   "metadata": {
    "collapsed": false
   }
  },
  {
   "cell_type": "code",
   "execution_count": 30,
   "outputs": [
    {
     "data": {
      "text/plain": "{'Arun': [25, 3, 7], 'Nihal': [50, 5, 12], 'Sanjay': [10, 4, 3]}"
     },
     "execution_count": 30,
     "metadata": {},
     "output_type": "execute_result"
    }
   ],
   "source": [
    "data"
   ],
   "metadata": {
    "collapsed": false
   }
  },
  {
   "cell_type": "code",
   "execution_count": 36,
   "outputs": [],
   "source": [
    "import random\n",
    "data = dict.fromkeys(data, random.randint(1, 10))"
   ],
   "metadata": {
    "collapsed": false
   }
  },
  {
   "cell_type": "code",
   "execution_count": 37,
   "outputs": [
    {
     "data": {
      "text/plain": "{'Arun': 4, 'Nihal': 4, 'Sanjay': 4}"
     },
     "execution_count": 37,
     "metadata": {},
     "output_type": "execute_result"
    }
   ],
   "source": [
    "data"
   ],
   "metadata": {
    "collapsed": false
   }
  },
  {
   "cell_type": "code",
   "execution_count": 38,
   "outputs": [],
   "source": [
    "data = {\n",
    "    \"A\" : 1,\n",
    "    \"B\" : 2,\n",
    "    \"C\" : 3\n",
    "}"
   ],
   "metadata": {
    "collapsed": false
   }
  },
  {
   "cell_type": "code",
   "execution_count": 46,
   "outputs": [
    {
     "data": {
      "text/plain": "{'A': 1, 'B': 2, 'C': 3}"
     },
     "execution_count": 46,
     "metadata": {},
     "output_type": "execute_result"
    }
   ],
   "source": [
    "data"
   ],
   "metadata": {
    "collapsed": false
   }
  },
  {
   "cell_type": "code",
   "execution_count": 47,
   "outputs": [],
   "source": [
    "data = { v: k for k, v in data.items()}"
   ],
   "metadata": {
    "collapsed": false
   }
  },
  {
   "cell_type": "code",
   "execution_count": 48,
   "outputs": [
    {
     "data": {
      "text/plain": "{1: 'A', 2: 'B', 3: 'C'}"
     },
     "execution_count": 48,
     "metadata": {},
     "output_type": "execute_result"
    }
   ],
   "source": [
    "data"
   ],
   "metadata": {
    "collapsed": false
   }
  },
  {
   "cell_type": "code",
   "execution_count": 49,
   "outputs": [],
   "source": [
    "def club_entry(input_list):\n",
    "    answer = []\n",
    "    #Your Code Here\n",
    "    #this function shoud return a new list with all colors seperated.\n",
    "\n",
    "    for i in input_list:\n",
    "        dob = int(i[1:5])\n",
    "\n",
    "        if (2022 - dob) < 18:\n",
    "            answer.append(\"No Entry for you\")\n",
    "        else:\n",
    "            answer.append(\"You can Enter\")\n",
    "\n",
    "    return answer"
   ],
   "metadata": {
    "collapsed": false
   }
  },
  {
   "cell_type": "code",
   "execution_count": 51,
   "outputs": [
    {
     "name": "stdout",
     "output_type": "stream",
     "text": [
      "['s', 's']\n"
     ]
    }
   ],
   "source": [
    "k = [i for i in \"aeiouss\" if i not in \"aeiou\"]\n",
    "\n",
    "print(k)"
   ],
   "metadata": {
    "collapsed": false
   }
  },
  {
   "cell_type": "code",
   "execution_count": null,
   "outputs": [],
   "source": [],
   "metadata": {
    "collapsed": false
   }
  }
 ],
 "metadata": {
  "kernelspec": {
   "display_name": "Python 3",
   "language": "python",
   "name": "python3"
  },
  "language_info": {
   "codemirror_mode": {
    "name": "ipython",
    "version": 2
   },
   "file_extension": ".py",
   "mimetype": "text/x-python",
   "name": "python",
   "nbconvert_exporter": "python",
   "pygments_lexer": "ipython2",
   "version": "2.7.6"
  }
 },
 "nbformat": 4,
 "nbformat_minor": 0
}
