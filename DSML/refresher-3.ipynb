{
 "cells": [
  {
   "cell_type": "code",
   "execution_count": 2,
   "metadata": {
    "collapsed": true
   },
   "outputs": [
    {
     "name": "stdout",
     "output_type": "stream",
     "text": [
      "Ych PYcha charm3 PYcharm PYcharm\n"
     ]
    }
   ],
   "source": [
    "str1 = \"PYcharm3\"\n",
    "print(str1[1:4], str1[:5], str1[-6:], str1[0:-1], str1[:-1])"
   ]
  },
  {
   "cell_type": "code",
   "execution_count": 1,
   "outputs": [
    {
     "name": "stdout",
     "output_type": "stream",
     "text": [
      "0 P\n",
      "1 Y\n",
      "2 c\n",
      "3 h\n",
      "4 a\n",
      "5 r\n",
      "6 m\n",
      "7 3\n"
     ]
    }
   ],
   "source": [
    "for i, j in enumerate(\"PYcharm3\"):\n",
    "    print(i, j)"
   ],
   "metadata": {
    "collapsed": false
   }
  },
  {
   "cell_type": "code",
   "execution_count": 3,
   "outputs": [],
   "source": [
    "a = \"suman\""
   ],
   "metadata": {
    "collapsed": false
   }
  },
  {
   "cell_type": "code",
   "execution_count": 4,
   "outputs": [
    {
     "data": {
      "text/plain": "('s', 'u', 'm', 'a', 'n')"
     },
     "execution_count": 4,
     "metadata": {},
     "output_type": "execute_result"
    }
   ],
   "source": [
    "tuple(a)"
   ],
   "metadata": {
    "collapsed": false
   }
  },
  {
   "cell_type": "code",
   "execution_count": 5,
   "outputs": [],
   "source": [
    "def check_vowels(str):\n",
    "    vowels_list=[]\n",
    "    '''Input: str takes the string as input\n",
    "       Output: Store the vowels in vowels_list and return it.'''\n",
    "    # YOUR CODE GOES HERE\n",
    "\n",
    "    vowels_list = [ i for i in str if i in \"aeiou\"]\n",
    "\n",
    "    return vowels_list"
   ],
   "metadata": {
    "collapsed": false
   }
  },
  {
   "cell_type": "code",
   "execution_count": 6,
   "outputs": [],
   "source": [
    "a = \"abcde\""
   ],
   "metadata": {
    "collapsed": false
   }
  },
  {
   "cell_type": "code",
   "execution_count": 7,
   "outputs": [
    {
     "data": {
      "text/plain": "'c'"
     },
     "execution_count": 7,
     "metadata": {},
     "output_type": "execute_result"
    }
   ],
   "source": [
    "a[2]"
   ],
   "metadata": {
    "collapsed": false
   }
  },
  {
   "cell_type": "code",
   "execution_count": 8,
   "outputs": [
    {
     "data": {
      "text/plain": "2"
     },
     "execution_count": 8,
     "metadata": {},
     "output_type": "execute_result"
    }
   ],
   "source": [
    "a.index(\"c\")"
   ],
   "metadata": {
    "collapsed": false
   }
  },
  {
   "cell_type": "code",
   "execution_count": 23,
   "outputs": [],
   "source": [
    "def check_equal(str1, str2):\n",
    "\n",
    "    res = \"Not Same\"\n",
    "    if len(str1) != len(str2):\n",
    "        return res\n",
    "\n",
    "    length = len(str1) - 1\n",
    "    i = 0\n",
    "    matched = 0\n",
    "    # find the location of first char in str1 in str2\n",
    "\n",
    "    if str1[0] in str2:\n",
    "        j = str2.index(str1[0])\n",
    "\n",
    "        while length >= 0:\n",
    "            print(i, j)\n",
    "            if str2[j] == str1[i]:\n",
    "                matched += 1\n",
    "                i += 1\n",
    "                if j == len(str2)-1:\n",
    "                    j = 0\n",
    "                else:\n",
    "                    j += 1\n",
    "                length -= 1\n",
    "            else:\n",
    "                break\n",
    "\n",
    "    if matched == len(str1):\n",
    "        res = \"Same\"\n",
    "        return res\n",
    "    else:\n",
    "        return res\n",
    "\n"
   ],
   "metadata": {
    "collapsed": false
   }
  },
  {
   "cell_type": "code",
   "execution_count": 28,
   "outputs": [
    {
     "name": "stdout",
     "output_type": "stream",
     "text": [
      "0 0\n",
      "1 1\n",
      "Not Same\n"
     ]
    }
   ],
   "source": [
    "print(check_equal(\"abcde\", \"adeab\"))"
   ],
   "metadata": {
    "collapsed": false
   }
  },
  {
   "cell_type": "code",
   "execution_count": null,
   "outputs": [],
   "source": [],
   "metadata": {
    "collapsed": false
   }
  }
 ],
 "metadata": {
  "kernelspec": {
   "display_name": "Python 3",
   "language": "python",
   "name": "python3"
  },
  "language_info": {
   "codemirror_mode": {
    "name": "ipython",
    "version": 2
   },
   "file_extension": ".py",
   "mimetype": "text/x-python",
   "name": "python",
   "nbconvert_exporter": "python",
   "pygments_lexer": "ipython2",
   "version": "2.7.6"
  }
 },
 "nbformat": 4,
 "nbformat_minor": 0
}
