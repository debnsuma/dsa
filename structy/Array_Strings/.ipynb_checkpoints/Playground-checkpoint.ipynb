{
 "cells": [
  {
   "cell_type": "markdown",
   "id": "fc1df0d2-668a-4796-a478-516e71b49e04",
   "metadata": {},
   "source": [
    "# 26. Remove Duplicates from Sorted Array (NC)\n",
    "https://leetcode.com/problems/remove-duplicates-from-sorted-array/"
   ]
  },
  {
   "cell_type": "code",
   "execution_count": 5,
   "id": "d7e1be89-e5dc-4e87-9eb5-faca77acc0ef",
   "metadata": {},
   "outputs": [],
   "source": [
    "def removeDuplicates(nums):\n",
    "    \n",
    "    if len(nums) == 1:\n",
    "        return 1\n",
    "    \n",
    "\n",
    "    last_seen = nums[0]\n",
    "    k = 1\n",
    "    \n",
    "    for i in range(1, len(nums)):\n",
    "        if nums[i] == last_seen:\n",
    "            pass\n",
    "        else:\n",
    "            last_seen = nums[i]\n",
    "            nums[k] = nums[i]\n",
    "            k += 1\n",
    "        \n",
    "    print(nums[:k], k)\n",
    "    \n",
    "    return k\n",
    "    \n",
    "                "
   ]
  },
  {
   "cell_type": "code",
   "execution_count": 6,
   "id": "1c4df552-2f63-472c-996a-db3c8031ee04",
   "metadata": {},
   "outputs": [
    {
     "name": "stdout",
     "output_type": "stream",
     "text": [
      "[0, 1, 2, 3, 4] 5\n"
     ]
    },
    {
     "data": {
      "text/plain": [
       "5"
      ]
     },
     "execution_count": 6,
     "metadata": {},
     "output_type": "execute_result"
    }
   ],
   "source": [
    "nums = [0, 1, 1, 1, 1, 2, 2, 3, 3, 4]\n",
    "removeDuplicates(nums)"
   ]
  },
  {
   "cell_type": "markdown",
   "id": "f0b8e1ea-09a6-463b-ba04-8d0e478fcc69",
   "metadata": {},
   "source": [
    "# 27. Remove Element (NC)\n",
    "https://leetcode.com/problems/remove-element/"
   ]
  },
  {
   "cell_type": "code",
   "execution_count": 18,
   "id": "afddef5b-d8ec-4e4d-b480-09721b64046e",
   "metadata": {},
   "outputs": [],
   "source": [
    "def removeElement(nums, val):\n",
    "    \n",
    "    k = 0\n",
    "    for i in range(len(nums)):\n",
    "        if nums[i] != val:\n",
    "            nums[k] = nums[i]\n",
    "            k += 1\n",
    "        else:\n",
    "            pass\n",
    "    return k"
   ]
  },
  {
   "cell_type": "code",
   "execution_count": 19,
   "id": "6f5061bc-ba5e-4e03-aafc-707f85b20bdf",
   "metadata": {},
   "outputs": [
    {
     "data": {
      "text/plain": [
       "5"
      ]
     },
     "execution_count": 19,
     "metadata": {},
     "output_type": "execute_result"
    }
   ],
   "source": [
    "nums = [0,1,2,2,3,0,4,2]\n",
    "removeElement(nums, 2)"
   ]
  },
  {
   "cell_type": "code",
   "execution_count": null,
   "id": "a5fddda6-e30b-4269-8acd-0fdb4435d582",
   "metadata": {},
   "outputs": [],
   "source": []
  }
 ],
 "metadata": {
  "kernelspec": {
   "display_name": "Python 3 (ipykernel)",
   "language": "python",
   "name": "python3"
  },
  "language_info": {
   "codemirror_mode": {
    "name": "ipython",
    "version": 3
   },
   "file_extension": ".py",
   "mimetype": "text/x-python",
   "name": "python",
   "nbconvert_exporter": "python",
   "pygments_lexer": "ipython3",
   "version": "3.10.9"
  }
 },
 "nbformat": 4,
 "nbformat_minor": 5
}
