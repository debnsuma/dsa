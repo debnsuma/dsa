{
 "cells": [
  {
   "cell_type": "code",
   "execution_count": 5,
   "id": "3baed31f",
   "metadata": {},
   "outputs": [],
   "source": [
    "def five_sort(nums):\n",
    "    n = len(nums)\n",
    "    j = n - 1\n",
    "    for i in range(n):\n",
    "        if nums[i] == 5:\n",
    "            while nums[j] == 5 and j > i:\n",
    "                j -= 1\n",
    "            nums[i], nums[j] = nums[j], nums[i]\n",
    "            j -= 1\n",
    "        if j < i:\n",
    "            break\n",
    "    \n",
    "    return nums\n",
    "        \n",
    "        \n",
    "            "
   ]
  },
  {
   "cell_type": "code",
   "execution_count": 6,
   "id": "151414b9",
   "metadata": {},
   "outputs": [
    {
     "data": {
      "text/plain": [
       "[12, 7, 1, 12, 5, 5]"
      ]
     },
     "execution_count": 6,
     "metadata": {},
     "output_type": "execute_result"
    }
   ],
   "source": [
    "nums = [12, 7, 1, 12, 5, 5]\n",
    "five_sort(nums)"
   ]
  },
  {
   "cell_type": "code",
   "execution_count": 4,
   "id": "48eefb1a",
   "metadata": {},
   "outputs": [
    {
     "data": {
      "text/plain": [
       "[2, 2, 10, 6, 5, 1, 5, 5, 5, 5]"
      ]
     },
     "execution_count": 4,
     "metadata": {},
     "output_type": "execute_result"
    }
   ],
   "source": [
    "five_sort([5, 2, 5, 6, 5, 1, 10, 2, 5, 5])\n",
    "# -> [2, 2, 10, 6, 1, 5, 5, 5, 5, 5]"
   ]
  },
  {
   "cell_type": "code",
   "execution_count": 8,
   "id": "cbaa575f",
   "metadata": {},
   "outputs": [
    {
     "data": {
      "text/plain": [
       "[4, 1, 2, 1, 2, 5, 3, 5, 5, 5, 5, 5, 5, 5]"
      ]
     },
     "execution_count": 8,
     "metadata": {},
     "output_type": "execute_result"
    }
   ],
   "source": [
    "five_sort([5, 1, 2, 5, 5, 3, 2, 5, 1, 5, 5, 5, 4, 5])\n",
    "# -> [4, 1, 2, 1, 2, 3, 5, 5, 5, 5, 5, 5, 5, 5] "
   ]
  },
  {
   "cell_type": "code",
   "execution_count": 64,
   "id": "60c68975",
   "metadata": {},
   "outputs": [],
   "source": [
    "def five_sort(nums):\n",
    "    i = 0\n",
    "    j = len(nums) - 1\n",
    "    \n",
    "    while i < j:\n",
    "        \n",
    "        if nums[i] == 5 and nums[j] == 5:\n",
    "                j -= 1\n",
    "                continue\n",
    "        elif nums[i] == 5:\n",
    "            nums[i], nums[j] = nums[j], nums[i]\n",
    "            j -= 1\n",
    "            i += 1\n",
    "        else:\n",
    "            i += 1\n",
    "    \n",
    "    print(nums)\n",
    "        \n",
    "            "
   ]
  },
  {
   "cell_type": "code",
   "execution_count": 65,
   "id": "a68cf9d7",
   "metadata": {},
   "outputs": [
    {
     "name": "stdout",
     "output_type": "stream",
     "text": [
      "[12, 7, 1, 12, 5, 5]\n"
     ]
    }
   ],
   "source": [
    "nums = [12, 7, 1, 12, 5, 5]\n",
    "five_sort(nums)"
   ]
  },
  {
   "cell_type": "code",
   "execution_count": 66,
   "id": "31d1b884",
   "metadata": {},
   "outputs": [
    {
     "data": {
      "text/plain": [
       "[12, 7, 1, 12, 5, 5]"
      ]
     },
     "execution_count": 66,
     "metadata": {},
     "output_type": "execute_result"
    }
   ],
   "source": [
    "nums"
   ]
  },
  {
   "cell_type": "code",
   "execution_count": 67,
   "id": "ee1419de",
   "metadata": {},
   "outputs": [
    {
     "name": "stdout",
     "output_type": "stream",
     "text": [
      "[4, 1, 2, 1, 2, 3, 5, 5, 5, 5, 5, 5, 5, 5]\n"
     ]
    }
   ],
   "source": [
    "five_sort([5, 1, 2, 5, 5, 3, 2, 5, 1, 5, 5, 5, 4, 5])\n",
    "# -> [4, 1, 2, 1, 2, 3, 5, 5, 5, 5, 5, 5, 5, 5] "
   ]
  },
  {
   "cell_type": "code",
   "execution_count": 28,
   "id": "c5fc751e",
   "metadata": {},
   "outputs": [
    {
     "data": {
      "text/plain": [
       "[12, 7, 1, 12, 5, 5]"
      ]
     },
     "execution_count": 28,
     "metadata": {},
     "output_type": "execute_result"
    }
   ],
   "source": [
    "nums"
   ]
  },
  {
   "cell_type": "code",
   "execution_count": null,
   "id": "b11868d8",
   "metadata": {},
   "outputs": [],
   "source": []
  }
 ],
 "metadata": {
  "kernelspec": {
   "display_name": "Python 3 (ipykernel)",
   "language": "python",
   "name": "python3"
  },
  "language_info": {
   "codemirror_mode": {
    "name": "ipython",
    "version": 3
   },
   "file_extension": ".py",
   "mimetype": "text/x-python",
   "name": "python",
   "nbconvert_exporter": "python",
   "pygments_lexer": "ipython3",
   "version": "3.9.7"
  }
 },
 "nbformat": 4,
 "nbformat_minor": 5
}
