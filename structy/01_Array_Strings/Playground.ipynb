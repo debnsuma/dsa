{
 "cells": [
  {
   "cell_type": "markdown",
   "id": "fc1df0d2-668a-4796-a478-516e71b49e04",
   "metadata": {},
   "source": [
    "# 26. Remove Duplicates from Sorted Array (NC)\n",
    "https://leetcode.com/problems/remove-duplicates-from-sorted-array/"
   ]
  },
  {
   "cell_type": "code",
   "execution_count": 5,
   "id": "d7e1be89-e5dc-4e87-9eb5-faca77acc0ef",
   "metadata": {},
   "outputs": [],
   "source": [
    "def removeDuplicates(nums):\n",
    "    \n",
    "    if len(nums) == 1:\n",
    "        return 1\n",
    "    \n",
    "\n",
    "    last_seen = nums[0]\n",
    "    k = 1\n",
    "    \n",
    "    for i in range(1, len(nums)):\n",
    "        if nums[i] == last_seen:\n",
    "            pass\n",
    "        else:\n",
    "            last_seen = nums[i]\n",
    "            nums[k] = nums[i]\n",
    "            k += 1\n",
    "        \n",
    "    print(nums[:k], k)\n",
    "    \n",
    "    return k\n",
    "    \n",
    "                "
   ]
  },
  {
   "cell_type": "code",
   "execution_count": 6,
   "id": "1c4df552-2f63-472c-996a-db3c8031ee04",
   "metadata": {},
   "outputs": [
    {
     "name": "stdout",
     "output_type": "stream",
     "text": [
      "[0, 1, 2, 3, 4] 5\n"
     ]
    },
    {
     "data": {
      "text/plain": [
       "5"
      ]
     },
     "execution_count": 6,
     "metadata": {},
     "output_type": "execute_result"
    }
   ],
   "source": [
    "nums = [0, 1, 1, 1, 1, 2, 2, 3, 3, 4]\n",
    "removeDuplicates(nums)"
   ]
  },
  {
   "cell_type": "markdown",
   "id": "f0b8e1ea-09a6-463b-ba04-8d0e478fcc69",
   "metadata": {},
   "source": [
    "# 27. Remove Element (NC)\n",
    "https://leetcode.com/problems/remove-element/"
   ]
  },
  {
   "cell_type": "code",
   "execution_count": 18,
   "id": "afddef5b-d8ec-4e4d-b480-09721b64046e",
   "metadata": {},
   "outputs": [],
   "source": [
    "def removeElement(nums, val):\n",
    "    \n",
    "    k = 0\n",
    "    for i in range(len(nums)):\n",
    "        if nums[i] != val:\n",
    "            nums[k] = nums[i]\n",
    "            k += 1\n",
    "        else:\n",
    "            pass\n",
    "    return k"
   ]
  },
  {
   "cell_type": "code",
   "execution_count": 19,
   "id": "6f5061bc-ba5e-4e03-aafc-707f85b20bdf",
   "metadata": {},
   "outputs": [
    {
     "data": {
      "text/plain": [
       "5"
      ]
     },
     "execution_count": 19,
     "metadata": {},
     "output_type": "execute_result"
    }
   ],
   "source": [
    "nums = [0,1,2,2,3,0,4,2]\n",
    "removeElement(nums, 2)"
   ]
  },
  {
   "cell_type": "markdown",
   "id": "3a032c31-e6f2-4057-bbb9-37c24ea025e3",
   "metadata": {},
   "source": [
    "# 01_Uncompress (Structy)"
   ]
  },
  {
   "cell_type": "code",
   "execution_count": 12,
   "id": "1d02067f-c7f8-4ee8-840c-b144f5fd00a0",
   "metadata": {},
   "outputs": [],
   "source": [
    "import string\n",
    "\n",
    "def uncompress(mystring):\n",
    "    final_string = ''\n",
    "    temp_num = 0\n",
    "    for i in range(len(mystring)):\n",
    "        if mystring[i] in string.digits:\n",
    "            temp_num = temp_num * 10 + int(mystring[i]) \n",
    "            continue\n",
    "        \n",
    "        final_string = final_string + temp_num * mystring[i]\n",
    "        temp_num = 0\n",
    "            \n",
    "    return final_string\n",
    "            \n",
    "            "
   ]
  },
  {
   "cell_type": "code",
   "execution_count": 13,
   "id": "b345d2b6-8910-4a08-9498-becdc4eca4f4",
   "metadata": {},
   "outputs": [
    {
     "data": {
      "text/plain": [
       "'ccaaat'"
      ]
     },
     "execution_count": 13,
     "metadata": {},
     "output_type": "execute_result"
    }
   ],
   "source": [
    "uncompress(\"2c3a1t\")"
   ]
  },
  {
   "cell_type": "code",
   "execution_count": 14,
   "id": "40c025f2-4545-476b-a808-70930a79891c",
   "metadata": {},
   "outputs": [
    {
     "data": {
      "text/plain": [
       "'yyyyyyyyyyyyyyyyyyyyyyyyyyyyyyyyyyyyyyyyyyyyyyyyyyyyyyyyyyyyyyyyyyyyyyyyyyyyyyyyyyyyyyyyyyyyyyyyyyyyyyyyyyyyyyyyyyyyyyyyyyyyyyy'"
      ]
     },
     "execution_count": 14,
     "metadata": {},
     "output_type": "execute_result"
    }
   ],
   "source": [
    "uncompress(\"127y\")"
   ]
  },
  {
   "cell_type": "code",
   "execution_count": 111,
   "id": "0a948e40-aa39-464e-8524-5c7c1a106afe",
   "metadata": {},
   "outputs": [],
   "source": [
    "def uncompress(mystring):\n",
    "    \n",
    "    i, j = 0, 0\n",
    "    final_string = ''\n",
    "    \n",
    "    while j < len(mystring):\n",
    "        if mystring[j].isdigit():\n",
    "            j += 1\n",
    "            continue\n",
    "        else:\n",
    "\n",
    "            temp_num = int(mystring[i:j])\n",
    "            \n",
    "            final_string += mystring[j] * temp_num\n",
    "            \n",
    "            j += 1\n",
    "            i = j\n",
    "            \n",
    "    return final_string"
   ]
  },
  {
   "cell_type": "code",
   "execution_count": 112,
   "id": "3bbea7c6-56dd-4e5f-9648-5571f693e51e",
   "metadata": {},
   "outputs": [
    {
     "data": {
      "text/plain": [
       "'ccaaat'"
      ]
     },
     "execution_count": 112,
     "metadata": {},
     "output_type": "execute_result"
    }
   ],
   "source": [
    "uncompress(\"2c3a1t\")"
   ]
  },
  {
   "cell_type": "code",
   "execution_count": 113,
   "id": "fbd7d991-7ca6-4e83-bac1-4b2901e56851",
   "metadata": {},
   "outputs": [
    {
     "data": {
      "text/plain": [
       "'yyyyyyyyyyyyyyyyyyyyyyyyyyyyyyyyyyyyyyyyyyyyyyyyyyyyyyyyyyyyyyyyyyyyyyyyyyyyyyyyyyyyyyyyyyyyyyyyyyyyyyyyyyyyyyyyyyyyyyyyyyyyyyy'"
      ]
     },
     "execution_count": 113,
     "metadata": {},
     "output_type": "execute_result"
    }
   ],
   "source": [
    "uncompress(\"127y\")"
   ]
  },
  {
   "cell_type": "markdown",
   "id": "0c3a887e-f1aa-4e26-b47c-fa3cd842418d",
   "metadata": {},
   "source": [
    "# 02_Compress (Structy)"
   ]
  },
  {
   "cell_type": "code",
   "execution_count": 159,
   "id": "25370abd-12bd-461c-911d-c1360fd23582",
   "metadata": {},
   "outputs": [],
   "source": [
    "import string\n",
    "\n",
    "def compress(mystring):\n",
    "   \n",
    "    last_seen = mystring[0]\n",
    "    count = 1\n",
    "    final_string = ''\n",
    "    \n",
    "    for i in range(1, len(mystring)):\n",
    "        \n",
    "        if mystring[i] == last_seen:\n",
    "            count += 1\n",
    "            continue\n",
    "        \n",
    "        else:\n",
    "            if count != 1:\n",
    "                final_string += str(count) + last_seen\n",
    "            else:\n",
    "                final_string += last_seen\n",
    "\n",
    "            last_seen = mystring[i]\n",
    "            count = 1\n",
    "        \n",
    "    if count != 1:\n",
    "        final_string += str(count) + last_seen\n",
    "    else:\n",
    "        final_string += last_seen   \n",
    "    \n",
    "    return final_string\n",
    "\n",
    "            \n",
    "        "
   ]
  },
  {
   "cell_type": "code",
   "execution_count": 160,
   "id": "c21fa646-87f0-427f-8921-26fbbaed03f5",
   "metadata": {},
   "outputs": [
    {
     "data": {
      "text/plain": [
       "'2c3at3s'"
      ]
     },
     "execution_count": 160,
     "metadata": {},
     "output_type": "execute_result"
    }
   ],
   "source": [
    "compress('ccaaatsss') # -> '2c3at3s'\n"
   ]
  },
  {
   "cell_type": "code",
   "execution_count": 161,
   "id": "7afa7a82-2627-4d2d-94f2-355e52185ab8",
   "metadata": {},
   "outputs": [
    {
     "data": {
      "text/plain": [
       "'3n12e2z'"
      ]
     },
     "execution_count": 161,
     "metadata": {},
     "output_type": "execute_result"
    }
   ],
   "source": [
    "compress('nnneeeeeeeeeeeezz') # -> '3n12e2z'\n"
   ]
  },
  {
   "cell_type": "code",
   "execution_count": 162,
   "id": "971e4f9c-5747-425a-96e9-ea87ed82e4fc",
   "metadata": {},
   "outputs": [
    {
     "data": {
      "text/plain": [
       "'4s2bz'"
      ]
     },
     "execution_count": 162,
     "metadata": {},
     "output_type": "execute_result"
    }
   ],
   "source": [
    "compress('ssssbbz') # -> '4s2bz'\n"
   ]
  },
  {
   "cell_type": "code",
   "execution_count": 169,
   "id": "9fdfaafc-2170-4ef8-ab17-483bf0efc05a",
   "metadata": {},
   "outputs": [],
   "source": [
    "def compress(mystring):\n",
    "    i = 0\n",
    "    j = 0\n",
    "    \n",
    "    last_seen = mystring[j]\n",
    "    final_string = ''\n",
    "    \n",
    "    while j < len(mystring):\n",
    "        \n",
    "        if last_seen == mystring[j]:\n",
    "            j += 1\n",
    "            continue\n",
    "        else:\n",
    "            if (j-i) != 1:\n",
    "                final_string += str(j - i) + last_seen\n",
    "            else:\n",
    "                final_string += last_seen\n",
    "\n",
    "            last_seen = mystring[j]\n",
    "            i = j\n",
    "            j += 1\n",
    "            \n",
    "    if (j-i) != 1:\n",
    "        final_string += str(j - i) + last_seen\n",
    "    else:\n",
    "        final_string += last_seen\n",
    "                \n",
    "    return final_string\n",
    "            \n",
    "    "
   ]
  },
  {
   "cell_type": "code",
   "execution_count": 170,
   "id": "dc3e5b55-ad3d-4d57-a15b-aed724296429",
   "metadata": {},
   "outputs": [
    {
     "data": {
      "text/plain": [
       "'2c3at3s'"
      ]
     },
     "execution_count": 170,
     "metadata": {},
     "output_type": "execute_result"
    }
   ],
   "source": [
    "compress('ccaaatsss') # -> '2c3at3s'"
   ]
  },
  {
   "cell_type": "markdown",
   "id": "771423bc-87e4-40ff-8364-7c7e56a2f247",
   "metadata": {},
   "source": [
    "# Q3_Anagrams"
   ]
  },
  {
   "cell_type": "code",
   "execution_count": 278,
   "id": "d8f8aa7e-a6bd-4620-b378-cb9f570b64d4",
   "metadata": {
    "tags": []
   },
   "outputs": [],
   "source": [
    "def anagrams(s1, s2):\n",
    "    letter_map = dict()\n",
    "    \n",
    "    l1 = len(s1) \n",
    "    l2 = len(s2) \n",
    "    \n",
    "    if l1 != l2:\n",
    "        return False     \n",
    "    \n",
    "    i = 0\n",
    "    \n",
    "    while i < len(s1):\n",
    "        # print(letter_map, i)\n",
    "        \n",
    "        if s1[i] not in letter_map:\n",
    "            letter_map[s1[i]] = 1\n",
    "        else:\n",
    "            letter_map[s1[i]] += 1\n",
    "\n",
    "\n",
    "        if s2[-i-1] not in letter_map:\n",
    "            letter_map[s2[-i-1]] = -1   \n",
    "        else:\n",
    "            letter_map[s2[-i-1]] -= 1\n",
    "\n",
    "        # print(letter_map, i, -i-1)\n",
    "        # print(\"*****\")\n",
    "\n",
    "        i += 1\n",
    "        \n",
    "\n",
    "        \n",
    "\n",
    "    if set(letter_map.values()) == {0}:\n",
    "        return True\n",
    "    else:\n",
    "        return False\n",
    "    \n",
    "            \n",
    "    \n",
    "    "
   ]
  },
  {
   "cell_type": "code",
   "execution_count": 279,
   "id": "d615b4e0-1e50-464c-b4ca-856d98317db0",
   "metadata": {
    "tags": []
   },
   "outputs": [
    {
     "data": {
      "text/plain": [
       "True"
      ]
     },
     "execution_count": 279,
     "metadata": {},
     "output_type": "execute_result"
    }
   ],
   "source": [
    "anagrams('restful', 'luftser') # -> True\n"
   ]
  },
  {
   "cell_type": "code",
   "execution_count": 280,
   "id": "c4790725-9e4a-4c40-9567-e05a6bfbd3c4",
   "metadata": {
    "tags": []
   },
   "outputs": [
    {
     "data": {
      "text/plain": [
       "False"
      ]
     },
     "execution_count": 280,
     "metadata": {},
     "output_type": "execute_result"
    }
   ],
   "source": [
    "anagrams('cats', 'tocs') # -> False\n"
   ]
  },
  {
   "cell_type": "code",
   "execution_count": 281,
   "id": "6235539b-aacc-478b-9ecd-33b5aec8e868",
   "metadata": {
    "tags": []
   },
   "outputs": [
    {
     "data": {
      "text/plain": [
       "True"
      ]
     },
     "execution_count": 281,
     "metadata": {},
     "output_type": "execute_result"
    }
   ],
   "source": [
    "anagrams('monkeyswrite', 'newyorktimes') # -> True\n"
   ]
  },
  {
   "cell_type": "code",
   "execution_count": 282,
   "id": "318f906f-4e6e-4cec-a783-5e2cb1420b29",
   "metadata": {},
   "outputs": [
    {
     "data": {
      "text/plain": [
       "False"
      ]
     },
     "execution_count": 282,
     "metadata": {},
     "output_type": "execute_result"
    }
   ],
   "source": [
    "anagrams('paper', 'reapa') # -> False\n"
   ]
  },
  {
   "cell_type": "code",
   "execution_count": 283,
   "id": "faf5f9ca-75c9-486a-8aa6-30c8b7d89a9a",
   "metadata": {},
   "outputs": [
    {
     "data": {
      "text/plain": [
       "True"
      ]
     },
     "execution_count": 283,
     "metadata": {},
     "output_type": "execute_result"
    }
   ],
   "source": [
    "anagrams('restful', 'luftser') # -> True\n"
   ]
  },
  {
   "cell_type": "code",
   "execution_count": null,
   "id": "6286cd76-fa29-4ab7-a179-15725d48fac8",
   "metadata": {},
   "outputs": [],
   "source": []
  }
 ],
 "metadata": {
  "kernelspec": {
   "display_name": "Python 3 (ipykernel)",
   "language": "python",
   "name": "python3"
  },
  "language_info": {
   "codemirror_mode": {
    "name": "ipython",
    "version": 3
   },
   "file_extension": ".py",
   "mimetype": "text/x-python",
   "name": "python",
   "nbconvert_exporter": "python",
   "pygments_lexer": "ipython3",
   "version": "3.10.9"
  }
 },
 "nbformat": 4,
 "nbformat_minor": 5
}
